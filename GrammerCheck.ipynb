{
 "cells": [
  {
   "cell_type": "code",
   "execution_count": 65,
   "metadata": {},
   "outputs": [
    {
     "data": {
      "text/plain": [
       "2"
      ]
     },
     "execution_count": 65,
     "metadata": {},
     "output_type": "execute_result"
    }
   ],
   "source": [
    "import language_check\n",
    "tool = language_check.LanguageTool('en-US')\n",
    "text = u'A sentence with a error in the Hitchhiker’s Guide tot he Galaxy'\n",
    "matches = tool.check(text)\n",
    "len(matches)"
   ]
  },
  {
   "cell_type": "code",
   "execution_count": 66,
   "metadata": {},
   "outputs": [
    {
     "data": {
      "text/plain": [
       "[Match({'fromy': 0, 'fromx': 16, 'toy': 0, 'tox': 17, 'ruleId': 'EN_A_VS_AN', 'msg': \"Use 'an' instead of 'a' if the following word starts with a vowel sound, e.g. 'an article', 'an hour'\", 'replacements': ['an'], 'context': 'A sentence with a error in the Hitchhiker’s Guide tot he ...', 'contextoffset': 16, 'offset': 16, 'errorlength': 1, 'category': 'Miscellaneous', 'locqualityissuetype': 'misspelling'}),\n",
       " Match({'fromy': 0, 'fromx': 50, 'toy': 0, 'tox': 56, 'ruleId': 'TOT_HE', 'subId': '1', 'msg': \"Did you mean 'to the'?\", 'replacements': ['to the'], 'context': '... with a error in the Hitchhiker’s Guide tot he Galaxy', 'contextoffset': 43, 'offset': 50, 'errorlength': 6, 'category': 'Possible Typo', 'locqualityissuetype': 'misspelling'})]"
      ]
     },
     "execution_count": 66,
     "metadata": {},
     "output_type": "execute_result"
    }
   ],
   "source": [
    "matches"
   ]
  },
  {
   "cell_type": "code",
   "execution_count": 67,
   "metadata": {},
   "outputs": [],
   "source": [
    "correct = tool.correct(text)"
   ]
  },
  {
   "cell_type": "code",
   "execution_count": 68,
   "metadata": {},
   "outputs": [
    {
     "name": "stdout",
     "output_type": "stream",
     "text": [
      "A sentence with a error in the Hitchhiker’s Guide tot he Galaxy\n",
      "A sentence with an error in the Hitchhiker’s Guide to the Galaxy\n"
     ]
    }
   ],
   "source": [
    "print(text)\n",
    "print(correct)"
   ]
  },
  {
   "cell_type": "code",
   "execution_count": 69,
   "metadata": {},
   "outputs": [],
   "source": [
    "def show_diff(text, n_text):\n",
    "    seqm = difflib.SequenceMatcher(None, text, n_text)\n",
    "    output= []\n",
    "    for opcode, a0, a1, b0, b1 in seqm.get_opcodes():\n",
    "        if opcode == 'equal':\n",
    "            output.append(seqm.a[a0:a1])\n",
    "        elif opcode == 'insert':\n",
    "            output.append(\"<ins>\" + seqm.b[b0:b1] + \"</ins>\")\n",
    "        elif opcode == 'delete':\n",
    "            output.append(\"<del>\" + seqm.a[a0:a1] + \"</del>\")\n",
    "        elif opcode == 'replace':\n",
    "            # seqm.a[a0:a1] -> seqm.b[b0:b1]\n",
    "            output.append(\"<del>\" + seqm.a[a0:a1] + \"</del><ins>\" + seqm.b[b0:b1] + \"</ins>\")\n",
    "        else:\n",
    "            raise RuntimeError\n",
    "    return ''.join(output)"
   ]
  },
  {
   "cell_type": "code",
   "execution_count": 70,
   "metadata": {},
   "outputs": [
    {
     "data": {
      "text/plain": [
       "'A sentence with a<ins>n</ins> error in the Hitchhiker’s Guide to<ins> </ins>t<del> </del>he Galaxy'"
      ]
     },
     "execution_count": 70,
     "metadata": {},
     "output_type": "execute_result"
    }
   ],
   "source": [
    "show_diff(text, correct)"
   ]
  }
 ],
 "metadata": {
  "kernelspec": {
   "display_name": "Python 3",
   "language": "python",
   "name": "python3"
  },
  "language_info": {
   "codemirror_mode": {
    "name": "ipython",
    "version": 3
   },
   "file_extension": ".py",
   "mimetype": "text/x-python",
   "name": "python",
   "nbconvert_exporter": "python",
   "pygments_lexer": "ipython3",
   "version": "3.7.3"
  }
 },
 "nbformat": 4,
 "nbformat_minor": 2
}
