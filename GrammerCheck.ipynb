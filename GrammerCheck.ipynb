{
 "cells": [
  {
   "cell_type": "code",
   "execution_count": 49,
   "metadata": {},
   "outputs": [
    {
     "data": {
      "text/plain": [
       "2"
      ]
     },
     "execution_count": 49,
     "metadata": {},
     "output_type": "execute_result"
    }
   ],
   "source": [
    "import language_check\n",
    "tool = language_check.LanguageTool('en-US')\n",
    "text = u'A sentance with a error in the Hitchhikers Guide tot he Galaxy'\n",
    "text = u'During the Iron Age, forge welding came of its own. The technique of joining metal parts by heating it to a dull red colour and hammering (pressing) them together was practised as a method of joining in the primitive ages.'\n",
    "matches = tool.check(text)\n",
    "import difflib\n",
    "len(matches)"
   ]
  },
  {
   "cell_type": "code",
   "execution_count": 50,
   "metadata": {},
   "outputs": [
    {
     "data": {
      "text/plain": [
       "[Match({'fromy': 0, 'fromx': 117, 'toy': 0, 'tox': 123, 'ruleId': 'MORFOLOGIK_RULE_EN_US', 'msg': 'Possible spelling mistake found', 'replacements': ['color', 'co lour', 'col our'], 'context': '...metal parts by heating it to a dull red colour and hammering (pressing) them together ...', 'contextoffset': 43, 'offset': 117, 'errorlength': 6, 'category': 'Possible Typo', 'locqualityissuetype': 'misspelling'}),\n",
       " Match({'fromy': 0, 'fromx': 167, 'toy': 0, 'tox': 176, 'ruleId': 'MORFOLOGIK_RULE_EN_US', 'msg': 'Possible spelling mistake found', 'replacements': ['practiced'], 'context': '... hammering (pressing) them together was practised as a method of joining in the primitive...', 'contextoffset': 43, 'offset': 167, 'errorlength': 9, 'category': 'Possible Typo', 'locqualityissuetype': 'misspelling'})]"
      ]
     },
     "execution_count": 50,
     "metadata": {},
     "output_type": "execute_result"
    }
   ],
   "source": [
    "matches"
   ]
  },
  {
   "cell_type": "code",
   "execution_count": 51,
   "metadata": {},
   "outputs": [],
   "source": [
    "correct = tool.correct(text)"
   ]
  },
  {
   "cell_type": "code",
   "execution_count": 52,
   "metadata": {},
   "outputs": [
    {
     "name": "stdout",
     "output_type": "stream",
     "text": [
      "During the Iron Age, forge welding came of its own. The technique of joining metal parts by heating it to a dull red colour and hammering (pressing) them together was practised as a method of joining in the primitive ages.\n",
      "During the Iron Age, forge welding came of its own. The technique of joining metal parts by heating it to a dull red color and hammering (pressing) them together was practiced as a method of joining in the primitive ages.\n"
     ]
    }
   ],
   "source": [
    "print(text)\n",
    "print(correct)"
   ]
  },
  {
   "cell_type": "code",
   "execution_count": 53,
   "metadata": {},
   "outputs": [],
   "source": [
    "def show_diff(text, n_text):\n",
    "    seqm = difflib.SequenceMatcher(None, text, n_text)\n",
    "    output= []\n",
    "    for opcode, a0, a1, b0, b1 in seqm.get_opcodes():\n",
    "        if opcode == 'equal':\n",
    "            output.append(seqm.a[a0:a1])\n",
    "        elif opcode == 'insert':\n",
    "            output.append(\"<ins>\" + seqm.b[b0:b1] + \"</ins>\")\n",
    "        elif opcode == 'delete':\n",
    "            output.append(\"<del>\" + seqm.a[a0:a1] + \"</del>\")\n",
    "        elif opcode == 'replace':\n",
    "            # seqm.a[a0:a1] -> seqm.b[b0:b1]\n",
    "            output.append(\"<del>\" + seqm.a[a0:a1] + \"</del><ins>\" + seqm.b[b0:b1] + \"</ins>\")\n",
    "        else:\n",
    "            raise RuntimeError\n",
    "    return ''.join(output)"
   ]
  },
  {
   "cell_type": "code",
   "execution_count": 54,
   "metadata": {},
   "outputs": [
    {
     "data": {
      "text/plain": [
       "'During the Iron Age, forge welding came of its own. The technique of joining metal parts by heating it to a dull red colo<del>u</del>r and hammering (pressing) them together was practi<del>s</del><ins>c</ins>ed as a method of joining in the primitive ages.'"
      ]
     },
     "execution_count": 54,
     "metadata": {},
     "output_type": "execute_result"
    }
   ],
   "source": [
    "show_diff(text, correct)"
   ]
  },
  {
   "cell_type": "code",
   "execution_count": null,
   "metadata": {},
   "outputs": [],
   "source": []
  }
 ],
 "metadata": {
  "kernelspec": {
   "display_name": "Python 3",
   "language": "python",
   "name": "python3"
  },
  "language_info": {
   "codemirror_mode": {
    "name": "ipython",
    "version": 3
   },
   "file_extension": ".py",
   "mimetype": "text/x-python",
   "name": "python",
   "nbconvert_exporter": "python",
   "pygments_lexer": "ipython3",
   "version": "3.7.3"
  }
 },
 "nbformat": 4,
 "nbformat_minor": 2
}
