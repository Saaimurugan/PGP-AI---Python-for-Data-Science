{
 "cells": [
  {
   "cell_type": "markdown",
   "metadata": {},
   "source": [
    "# Perform Facial Recognition with Deep Learning in Keras Using CNN"
   ]
  },
  {
   "cell_type": "raw",
   "metadata": {},
   "source": [
    "DESCRIPTION\n",
    "\n",
    "Problem Statement:\n",
    "Facial recognition is a biometric alternative that measures unique characteristics of a human\n",
    "face. Applications available today include flight check in, tagging friends and family members in\n",
    "photos, and “tailored” advertising. You are a computer vision engineer who needs to develop a\n",
    "face recognition programme with deep convolutional neural networks.\n",
    "Objective: Use a deep convolutional neural network to perform facial recognition using Keras.\n",
    "Dataset Details:\n",
    "ORL face database composed of 400 images of size 112 x 92. There are 40 people, 10 images\n",
    "per person. The images were taken at different times, lighting and facial expressions. The faces\n",
    "are in an upright position in frontal view, with a slight left-right rotation.\n",
    "Link to the Dataset: https://www.dropbox.com/s/i7uzp5yxk7wruva/ORL_faces.npz?dl=0"
   ]
  },
  {
   "cell_type": "raw",
   "metadata": {},
   "source": [
    "Prerequisites:\n",
    "Keras\n",
    "Scikit Learn\n",
    "\n",
    "Steps to be followed:\n",
    "1. Input the required libraries\n",
    "2. Load the dataset after loading the dataset, you have to normalize every image.\n",
    "3. Split the dataset\n",
    "4. Transform the images to equal sizes to feed in CNN\n",
    "5. Build a CNN model that has 3 main layers:\n",
    "\n",
    "i. Convolutional Layer\n",
    "ii. Pooling Layer\n",
    "iii. Fully Connected Layer\n",
    "\n",
    "6. Train the model\n",
    "7. Plot the result\n",
    "8. Iterate the model until the accuracy is above 90%"
   ]
  },
  {
   "cell_type": "code",
   "execution_count": 1,
   "metadata": {},
   "outputs": [
    {
     "name": "stderr",
     "output_type": "stream",
     "text": [
      "Using TensorFlow backend.\n",
      "C:\\Users\\saaim\\AppData\\Local\\Continuum\\anaconda3\\lib\\site-packages\\tensorflow\\python\\framework\\dtypes.py:526: FutureWarning: Passing (type, 1) or '1type' as a synonym of type is deprecated; in a future version of numpy, it will be understood as (type, (1,)) / '(1,)type'.\n",
      "  _np_qint8 = np.dtype([(\"qint8\", np.int8, 1)])\n",
      "C:\\Users\\saaim\\AppData\\Local\\Continuum\\anaconda3\\lib\\site-packages\\tensorflow\\python\\framework\\dtypes.py:527: FutureWarning: Passing (type, 1) or '1type' as a synonym of type is deprecated; in a future version of numpy, it will be understood as (type, (1,)) / '(1,)type'.\n",
      "  _np_quint8 = np.dtype([(\"quint8\", np.uint8, 1)])\n",
      "C:\\Users\\saaim\\AppData\\Local\\Continuum\\anaconda3\\lib\\site-packages\\tensorflow\\python\\framework\\dtypes.py:528: FutureWarning: Passing (type, 1) or '1type' as a synonym of type is deprecated; in a future version of numpy, it will be understood as (type, (1,)) / '(1,)type'.\n",
      "  _np_qint16 = np.dtype([(\"qint16\", np.int16, 1)])\n",
      "C:\\Users\\saaim\\AppData\\Local\\Continuum\\anaconda3\\lib\\site-packages\\tensorflow\\python\\framework\\dtypes.py:529: FutureWarning: Passing (type, 1) or '1type' as a synonym of type is deprecated; in a future version of numpy, it will be understood as (type, (1,)) / '(1,)type'.\n",
      "  _np_quint16 = np.dtype([(\"quint16\", np.uint16, 1)])\n",
      "C:\\Users\\saaim\\AppData\\Local\\Continuum\\anaconda3\\lib\\site-packages\\tensorflow\\python\\framework\\dtypes.py:530: FutureWarning: Passing (type, 1) or '1type' as a synonym of type is deprecated; in a future version of numpy, it will be understood as (type, (1,)) / '(1,)type'.\n",
      "  _np_qint32 = np.dtype([(\"qint32\", np.int32, 1)])\n",
      "C:\\Users\\saaim\\AppData\\Local\\Continuum\\anaconda3\\lib\\site-packages\\tensorflow\\python\\framework\\dtypes.py:535: FutureWarning: Passing (type, 1) or '1type' as a synonym of type is deprecated; in a future version of numpy, it will be understood as (type, (1,)) / '(1,)type'.\n",
      "  np_resource = np.dtype([(\"resource\", np.ubyte, 1)])\n"
     ]
    }
   ],
   "source": [
    "import keras\n",
    "from keras.models import Sequential\n",
    "from keras.layers import Conv2D, MaxPooling2D, Dense, Flatten, Dropout\n",
    "from keras.optimizers import Adam\n",
    "from keras.callbacks import TensorBoard\n",
    "from keras.callbacks import EarlyStopping\n",
    "from tqdm import tqdm\n",
    "\n",
    "import numpy as np\n",
    "import pandas as pd\n",
    "import matplotlib.pyplot as plt\n",
    "from sklearn.model_selection import train_test_split\n",
    "\n",
    "from sklearn.metrics import confusion_matrix\n",
    "from sklearn.metrics import classification_report\n",
    "from sklearn.metrics import roc_curve, auc\n",
    "from sklearn.metrics import accuracy_score\n",
    "from keras.utils import np_utils\n",
    "import itertools\n",
    "\n",
    "from IPython.display import Image"
   ]
  },
  {
   "cell_type": "code",
   "execution_count": 2,
   "metadata": {},
   "outputs": [],
   "source": [
    "#Load the data\n",
    "data = np.load('face/ORL_faces.npz')"
   ]
  },
  {
   "cell_type": "code",
   "execution_count": 3,
   "metadata": {},
   "outputs": [
    {
     "data": {
      "text/plain": [
       "numpy.lib.npyio.NpzFile"
      ]
     },
     "execution_count": 3,
     "metadata": {},
     "output_type": "execute_result"
    }
   ],
   "source": [
    "type(data)"
   ]
  },
  {
   "cell_type": "code",
   "execution_count": 4,
   "metadata": {},
   "outputs": [],
   "source": [
    "lst = data.files"
   ]
  },
  {
   "cell_type": "code",
   "execution_count": 5,
   "metadata": {},
   "outputs": [
    {
     "name": "stdout",
     "output_type": "stream",
     "text": [
      "testY\n",
      "[ 0  0  0  0  0  0  0  0  1  1  1  1  1  1  1  1  2  2  2  2  2  2  2  2\n",
      "  3  3  3  3  3  3  3  3  4  4  4  4  4  4  4  4  5  5  5  5  5  5  5  5\n",
      "  6  6  6  6  6  6  6  6  7  7  7  7  7  7  7  7  8  8  8  8  8  8  8  8\n",
      "  9  9  9  9  9  9  9  9 10 10 10 10 10 10 10 10 11 11 11 11 11 11 11 11\n",
      " 12 12 12 12 12 12 12 12 13 13 13 13 13 13 13 13 14 14 14 14 14 14 14 14\n",
      " 15 15 15 15 15 15 15 15 16 16 16 16 16 16 16 16 17 17 17 17 17 17 17 17\n",
      " 18 18 18 18 18 18 18 18 19 19 19 19 19 19 19 19]\n",
      "testX\n",
      "[[ 41.  47.  47. ...  35.  37.  38.]\n",
      " [ 44.  43.  32. ...  43.  43.  37.]\n",
      " [ 42.  41.  44. ...  42.  43.  41.]\n",
      " ...\n",
      " [101. 100. 103. ...  31.  40.  42.]\n",
      " [105. 108. 106. ...  44.  40.  47.]\n",
      " [113. 114. 111. ...  62.  81.  89.]]\n",
      "trainX\n",
      "[[ 48.  49.  45. ...  47.  46.  46.]\n",
      " [ 60.  60.  62. ...  32.  34.  34.]\n",
      " [ 39.  44.  53. ...  29.  26.  29.]\n",
      " ...\n",
      " [114. 117. 114. ...  98.  96.  98.]\n",
      " [105. 105. 107. ...  54.  47.  41.]\n",
      " [116. 114. 117. ...  95. 100. 101.]]\n",
      "trainY\n",
      "[ 0  0  0  0  0  0  0  0  0  0  0  0  1  1  1  1  1  1  1  1  1  1  1  1\n",
      "  2  2  2  2  2  2  2  2  2  2  2  2  3  3  3  3  3  3  3  3  3  3  3  3\n",
      "  4  4  4  4  4  4  4  4  4  4  4  4  5  5  5  5  5  5  5  5  5  5  5  5\n",
      "  6  6  6  6  6  6  6  6  6  6  6  6  7  7  7  7  7  7  7  7  7  7  7  7\n",
      "  8  8  8  8  8  8  8  8  8  8  8  8  9  9  9  9  9  9  9  9  9  9  9  9\n",
      " 10 10 10 10 10 10 10 10 10 10 10 10 11 11 11 11 11 11 11 11 11 11 11 11\n",
      " 12 12 12 12 12 12 12 12 12 12 12 12 13 13 13 13 13 13 13 13 13 13 13 13\n",
      " 14 14 14 14 14 14 14 14 14 14 14 14 15 15 15 15 15 15 15 15 15 15 15 15\n",
      " 16 16 16 16 16 16 16 16 16 16 16 16 17 17 17 17 17 17 17 17 17 17 17 17\n",
      " 18 18 18 18 18 18 18 18 18 18 18 18 19 19 19 19 19 19 19 19 19 19 19 19]\n"
     ]
    }
   ],
   "source": [
    "for item in lst:\n",
    "    print(item)\n",
    "    print(data[item])"
   ]
  },
  {
   "cell_type": "code",
   "execution_count": 6,
   "metadata": {},
   "outputs": [
    {
     "data": {
      "text/plain": [
       "(240, 10304)"
      ]
     },
     "execution_count": 6,
     "metadata": {},
     "output_type": "execute_result"
    }
   ],
   "source": [
    "x_train = data['trainX']\n",
    "x_train.shape"
   ]
  },
  {
   "cell_type": "code",
   "execution_count": 7,
   "metadata": {},
   "outputs": [
    {
     "data": {
      "text/plain": [
       "(160, 10304)"
      ]
     },
     "execution_count": 7,
     "metadata": {},
     "output_type": "execute_result"
    }
   ],
   "source": [
    "x_test = data['testX']\n",
    "x_test.shape"
   ]
  },
  {
   "cell_type": "code",
   "execution_count": 8,
   "metadata": {},
   "outputs": [],
   "source": [
    "#normalize every image\n",
    "x_train = np.array(x_train, dtype='float32')/255\n",
    "x_test = np.array(x_test, dtype='float32')/255"
   ]
  },
  {
   "cell_type": "code",
   "execution_count": 9,
   "metadata": {},
   "outputs": [
    {
     "data": {
      "text/plain": [
       "(240,)"
      ]
     },
     "execution_count": 9,
     "metadata": {},
     "output_type": "execute_result"
    }
   ],
   "source": [
    "y_train = data['trainY']\n",
    "y_test = data['testY']\n",
    "y_train.shape\n"
   ]
  },
  {
   "cell_type": "code",
   "execution_count": 10,
   "metadata": {},
   "outputs": [
    {
     "data": {
      "text/plain": [
       "(160,)"
      ]
     },
     "execution_count": 10,
     "metadata": {},
     "output_type": "execute_result"
    }
   ],
   "source": [
    "y_test.shape"
   ]
  },
  {
   "cell_type": "code",
   "execution_count": 11,
   "metadata": {},
   "outputs": [],
   "source": [
    "#Split the Data\n",
    "x_train, x_valid, y_train, y_valid = train_test_split(x_train, y_train, test_size=.05, random_state=1234,)"
   ]
  },
  {
   "cell_type": "code",
   "execution_count": 12,
   "metadata": {},
   "outputs": [
    {
     "name": "stdout",
     "output_type": "stream",
     "text": [
      "(228, 10304) (12, 10304) (228,) (12,)\n"
     ]
    }
   ],
   "source": [
    "print(x_train.shape, x_valid.shape, y_train.shape, y_valid.shape)"
   ]
  },
  {
   "cell_type": "code",
   "execution_count": 13,
   "metadata": {},
   "outputs": [],
   "source": [
    "#Change the size of the image"
   ]
  },
  {
   "cell_type": "code",
   "execution_count": 14,
   "metadata": {},
   "outputs": [],
   "source": [
    "im_rows = 112\n",
    "im_cols = 92\n",
    "\n",
    "batch_size = 512\n",
    "im_shape = (im_rows, im_cols, 1)"
   ]
  },
  {
   "cell_type": "code",
   "execution_count": 15,
   "metadata": {},
   "outputs": [],
   "source": [
    "x_train = x_train.reshape(x_train.shape[0], *im_shape)\n",
    "x_test = x_test.reshape(x_test.shape[0], *im_shape)\n",
    "x_valid = x_valid.reshape(x_valid.shape[0], *im_shape)"
   ]
  },
  {
   "cell_type": "code",
   "execution_count": 16,
   "metadata": {},
   "outputs": [],
   "source": [
    "#Build the Model - CNN"
   ]
  },
  {
   "cell_type": "code",
   "execution_count": 17,
   "metadata": {},
   "outputs": [
    {
     "name": "stdout",
     "output_type": "stream",
     "text": [
      "WARNING:tensorflow:From C:\\Users\\saaim\\AppData\\Local\\Continuum\\anaconda3\\lib\\site-packages\\tensorflow\\python\\ops\\resource_variable_ops.py:435: colocate_with (from tensorflow.python.framework.ops) is deprecated and will be removed in a future version.\n",
      "Instructions for updating:\n",
      "Colocations handled automatically by placer.\n"
     ]
    }
   ],
   "source": [
    "cnn_model = Sequential()\n",
    "cnn_model.add(Conv2D(filters=36, kernel_size=7, activation='relu', input_shape=im_shape))\n",
    "cnn_model.add(MaxPooling2D(pool_size=2))\n",
    "cnn_model.add(Conv2D(filters=54, kernel_size=5, activation='relu', input_shape=im_shape))\n",
    "cnn_model.add(MaxPooling2D(pool_size=2))"
   ]
  },
  {
   "cell_type": "code",
   "execution_count": 18,
   "metadata": {},
   "outputs": [],
   "source": [
    "cnn_model.add(Flatten())\n",
    "\n",
    "cnn_model.add(Dense(2024, activation='relu'))\n",
    "cnn_model.add(Dropout(0.5))\n",
    "cnn_model.add(Dense(1024, activation='relu'))\n",
    "cnn_model.add(Dropout(0.5))\n",
    "cnn_model.add(Dense(512, activation='relu'))\n",
    "cnn_model.add(Dropout(0.5))\n",
    "cnn_model.add(Dense(20, activation='softmax'))"
   ]
  },
  {
   "cell_type": "code",
   "execution_count": 19,
   "metadata": {},
   "outputs": [],
   "source": [
    "cnn_model.compile(\n",
    "    loss='sparse_categorical_crossentropy', \n",
    "    optimizer=Adam(lr=0.0001), \n",
    "    metrics=['accuracy'])"
   ]
  },
  {
   "cell_type": "code",
   "execution_count": 20,
   "metadata": {},
   "outputs": [
    {
     "name": "stdout",
     "output_type": "stream",
     "text": [
      "Model: \"sequential_1\"\n",
      "_________________________________________________________________\n",
      "Layer (type)                 Output Shape              Param #   \n",
      "=================================================================\n",
      "conv2d_1 (Conv2D)            (None, 106, 86, 36)       1800      \n",
      "_________________________________________________________________\n",
      "max_pooling2d_1 (MaxPooling2 (None, 53, 43, 36)        0         \n",
      "_________________________________________________________________\n",
      "conv2d_2 (Conv2D)            (None, 49, 39, 54)        48654     \n",
      "_________________________________________________________________\n",
      "max_pooling2d_2 (MaxPooling2 (None, 24, 19, 54)        0         \n",
      "_________________________________________________________________\n",
      "flatten_1 (Flatten)          (None, 24624)             0         \n",
      "_________________________________________________________________\n",
      "dense_1 (Dense)              (None, 2024)              49841000  \n",
      "_________________________________________________________________\n",
      "dropout_1 (Dropout)          (None, 2024)              0         \n",
      "_________________________________________________________________\n",
      "dense_2 (Dense)              (None, 1024)              2073600   \n",
      "_________________________________________________________________\n",
      "dropout_2 (Dropout)          (None, 1024)              0         \n",
      "_________________________________________________________________\n",
      "dense_3 (Dense)              (None, 512)               524800    \n",
      "_________________________________________________________________\n",
      "dropout_3 (Dropout)          (None, 512)               0         \n",
      "_________________________________________________________________\n",
      "dense_4 (Dense)              (None, 20)                10260     \n",
      "=================================================================\n",
      "Total params: 52,500,114\n",
      "Trainable params: 52,500,114\n",
      "Non-trainable params: 0\n",
      "_________________________________________________________________\n"
     ]
    }
   ],
   "source": [
    "#CNN Model Summary\n",
    "cnn_model.summary()"
   ]
  },
  {
   "cell_type": "code",
   "execution_count": 21,
   "metadata": {},
   "outputs": [
    {
     "name": "stdout",
     "output_type": "stream",
     "text": [
      "Train on 228 samples, validate on 12 samples\n",
      "Epoch 1/250\n",
      " - 14s - loss: 3.0738 - accuracy: 0.0351 - val_loss: 2.9947 - val_accuracy: 0.0833\n",
      "Epoch 2/250\n",
      " - 14s - loss: 2.9776 - accuracy: 0.0702 - val_loss: 2.9875 - val_accuracy: 0.1667\n",
      "Epoch 3/250\n",
      " - 13s - loss: 2.9797 - accuracy: 0.0921 - val_loss: 2.9979 - val_accuracy: 0.0000e+00\n",
      "Epoch 4/250\n",
      " - 14s - loss: 2.9634 - accuracy: 0.0921 - val_loss: 2.9676 - val_accuracy: 0.0000e+00\n",
      "Epoch 5/250\n",
      " - 13s - loss: 2.9156 - accuracy: 0.1184 - val_loss: 2.9391 - val_accuracy: 0.0000e+00\n",
      "Epoch 6/250\n",
      " - 14s - loss: 2.8520 - accuracy: 0.1798 - val_loss: 2.8852 - val_accuracy: 0.0000e+00\n",
      "Epoch 7/250\n",
      " - 14s - loss: 2.6852 - accuracy: 0.2061 - val_loss: 2.6542 - val_accuracy: 0.0833\n",
      "Epoch 8/250\n",
      " - 14s - loss: 2.4042 - accuracy: 0.3114 - val_loss: 2.3606 - val_accuracy: 0.2500\n",
      "Epoch 9/250\n",
      " - 13s - loss: 2.1324 - accuracy: 0.3465 - val_loss: 1.9259 - val_accuracy: 0.5000\n",
      "Epoch 10/250\n",
      " - 13s - loss: 1.8633 - accuracy: 0.4386 - val_loss: 1.6693 - val_accuracy: 0.5833\n",
      "Epoch 11/250\n",
      " - 13s - loss: 1.6047 - accuracy: 0.5132 - val_loss: 1.4570 - val_accuracy: 0.5833\n",
      "Epoch 12/250\n",
      " - 13s - loss: 1.3972 - accuracy: 0.5877 - val_loss: 1.0513 - val_accuracy: 0.6667\n",
      "Epoch 13/250\n",
      " - 12s - loss: 1.0604 - accuracy: 0.7237 - val_loss: 0.7156 - val_accuracy: 0.9167\n",
      "Epoch 14/250\n",
      " - 13s - loss: 0.8585 - accuracy: 0.7763 - val_loss: 0.5675 - val_accuracy: 0.9167\n",
      "Epoch 15/250\n",
      " - 14s - loss: 0.6975 - accuracy: 0.8026 - val_loss: 0.5036 - val_accuracy: 0.9167\n",
      "Epoch 16/250\n",
      " - 13s - loss: 0.4647 - accuracy: 0.8860 - val_loss: 0.2459 - val_accuracy: 0.9167\n",
      "Epoch 17/250\n",
      " - 15s - loss: 0.5228 - accuracy: 0.8509 - val_loss: 0.2822 - val_accuracy: 0.9167\n",
      "Epoch 18/250\n",
      " - 14s - loss: 0.3650 - accuracy: 0.8860 - val_loss: 0.1212 - val_accuracy: 1.0000\n",
      "Epoch 19/250\n",
      " - 13s - loss: 0.3099 - accuracy: 0.9298 - val_loss: 0.1446 - val_accuracy: 1.0000\n",
      "Epoch 20/250\n",
      " - 13s - loss: 0.3069 - accuracy: 0.9167 - val_loss: 0.0825 - val_accuracy: 1.0000\n",
      "Epoch 21/250\n",
      " - 14s - loss: 0.2840 - accuracy: 0.8991 - val_loss: 0.0540 - val_accuracy: 1.0000\n",
      "Epoch 22/250\n",
      " - 14s - loss: 0.1676 - accuracy: 0.9649 - val_loss: 0.0477 - val_accuracy: 1.0000\n",
      "Epoch 23/250\n",
      " - 14s - loss: 0.1476 - accuracy: 0.9737 - val_loss: 0.0353 - val_accuracy: 1.0000\n",
      "Epoch 24/250\n",
      " - 16s - loss: 0.1437 - accuracy: 0.9605 - val_loss: 0.0330 - val_accuracy: 1.0000\n",
      "Epoch 25/250\n",
      " - 14s - loss: 0.1168 - accuracy: 0.9605 - val_loss: 0.0591 - val_accuracy: 1.0000\n",
      "Epoch 26/250\n",
      " - 14s - loss: 0.1201 - accuracy: 0.9649 - val_loss: 0.0162 - val_accuracy: 1.0000\n",
      "Epoch 27/250\n",
      " - 14s - loss: 0.1157 - accuracy: 0.9737 - val_loss: 0.0090 - val_accuracy: 1.0000\n",
      "Epoch 28/250\n",
      " - 14s - loss: 0.0737 - accuracy: 0.9868 - val_loss: 0.0103 - val_accuracy: 1.0000\n",
      "Epoch 29/250\n",
      " - 14s - loss: 0.0872 - accuracy: 0.9649 - val_loss: 0.0408 - val_accuracy: 1.0000\n",
      "Epoch 30/250\n",
      " - 14s - loss: 0.0912 - accuracy: 0.9781 - val_loss: 0.0065 - val_accuracy: 1.0000\n",
      "Epoch 31/250\n",
      " - 14s - loss: 0.0703 - accuracy: 0.9737 - val_loss: 0.0056 - val_accuracy: 1.0000\n",
      "Epoch 32/250\n",
      " - 14s - loss: 0.0442 - accuracy: 0.9868 - val_loss: 0.0043 - val_accuracy: 1.0000\n",
      "Epoch 33/250\n",
      " - 14s - loss: 0.0571 - accuracy: 0.9912 - val_loss: 0.0031 - val_accuracy: 1.0000\n",
      "Epoch 34/250\n",
      " - 14s - loss: 0.0448 - accuracy: 0.9868 - val_loss: 0.0013 - val_accuracy: 1.0000\n",
      "Epoch 35/250\n",
      " - 14s - loss: 0.0436 - accuracy: 0.9956 - val_loss: 0.0013 - val_accuracy: 1.0000\n",
      "Epoch 36/250\n",
      " - 14s - loss: 0.0448 - accuracy: 0.9956 - val_loss: 0.0021 - val_accuracy: 1.0000\n",
      "Epoch 37/250\n",
      " - 14s - loss: 0.0479 - accuracy: 0.9956 - val_loss: 9.1372e-04 - val_accuracy: 1.0000\n",
      "Epoch 38/250\n",
      " - 14s - loss: 0.0408 - accuracy: 1.0000 - val_loss: 0.0037 - val_accuracy: 1.0000\n",
      "Epoch 39/250\n",
      " - 14s - loss: 0.0217 - accuracy: 0.9956 - val_loss: 0.0028 - val_accuracy: 1.0000\n",
      "Epoch 40/250\n",
      " - 15s - loss: 0.0315 - accuracy: 0.9956 - val_loss: 0.0020 - val_accuracy: 1.0000\n"
     ]
    }
   ],
   "source": [
    "result = cnn_model.fit(\n",
    "    np.array(x_train),\n",
    "    np.array(y_train),\n",
    "    batch_size=12,\n",
    "    epochs=250, verbose=2,\n",
    "    validation_data=(np.array(x_valid),np.array(y_valid)),\n",
    "    callbacks = [EarlyStopping(patience = 3)]\n",
    "    )"
   ]
  },
  {
   "cell_type": "code",
   "execution_count": 24,
   "metadata": {},
   "outputs": [],
   "source": [
    "score = cnn_model.evaluate(np.array(x_test), np.array(y_test), verbose=0)"
   ]
  },
  {
   "cell_type": "code",
   "execution_count": 25,
   "metadata": {},
   "outputs": [
    {
     "data": {
      "text/plain": [
       "[0.4118020385503769, 0.9312499761581421]"
      ]
     },
     "execution_count": 25,
     "metadata": {},
     "output_type": "execute_result"
    }
   ],
   "source": [
    "score"
   ]
  },
  {
   "cell_type": "code",
   "execution_count": 29,
   "metadata": {},
   "outputs": [
    {
     "name": "stdout",
     "output_type": "stream",
     "text": [
      "Accuracy score: 0.9312499761581421\n"
     ]
    }
   ],
   "source": [
    "print ('Accuracy score: ' + str(score[1]))"
   ]
  },
  {
   "cell_type": "code",
   "execution_count": 30,
   "metadata": {},
   "outputs": [
    {
     "name": "stdout",
     "output_type": "stream",
     "text": [
      "Loss: 0.4118020385503769\n"
     ]
    }
   ],
   "source": [
    "print ('Loss: ' + str(score[0]))"
   ]
  },
  {
   "cell_type": "code",
   "execution_count": 32,
   "metadata": {},
   "outputs": [],
   "source": [
    "#Plot the result"
   ]
  },
  {
   "cell_type": "code",
   "execution_count": 33,
   "metadata": {},
   "outputs": [
    {
     "name": "stdout",
     "output_type": "stream",
     "text": [
      "dict_keys(['val_loss', 'val_accuracy', 'loss', 'accuracy'])\n"
     ]
    }
   ],
   "source": [
    "print(result.history.keys())"
   ]
  },
  {
   "cell_type": "code",
   "execution_count": 40,
   "metadata": {},
   "outputs": [
    {
     "data": {
      "image/png": "[encoded data removed]",
      "text/plain": [
       "<Figure size 432x288 with 1 Axes>"
      ]
     },
     "metadata": {
      "needs_background": "light"
     },
     "output_type": "display_data"
    }
   ],
   "source": [
    "plt.plot(result.history['accuracy'])\n",
    "plt.plot(result.history['val_accuracy'])\n",
    "plt.title('CNN Model Accuracy')\n",
    "plt.ylabel('Accuracy')\n",
    "plt.xlabel('Epoch')\n",
    "plt.show()"
   ]
  },
  {
   "cell_type": "code",
   "execution_count": 41,
   "metadata": {},
   "outputs": [
    {
     "data": {
      "image/png": "[encoded data removed]",
      "text/plain": [
       "<Figure size 432x288 with 1 Axes>"
      ]
     },
     "metadata": {
      "needs_background": "light"
     },
     "output_type": "display_data"
    }
   ],
   "source": [
    "plt.plot(result.history['loss'])\n",
    "plt.plot(result.history['val_loss'])\n",
    "plt.title('CNN Model Loss')\n",
    "plt.ylabel('Loss')\n",
    "plt.xlabel('Epoch')\n",
    "plt.show()"
   ]
  },
  {
   "cell_type": "code",
   "execution_count": 42,
   "metadata": {},
   "outputs": [],
   "source": [
    "predict = np.array(cnn_model.predict(x_test))"
   ]
  },
  {
   "cell_type": "code",
   "execution_count": 45,
   "metadata": {},
   "outputs": [],
   "source": [
    "new_y = cnn_model.predict_classes(x_test)"
   ]
  },
  {
   "cell_type": "code",
   "execution_count": 46,
   "metadata": {},
   "outputs": [],
   "source": [
    "New_Accuracy = accuracy_score(y_test, new_y)"
   ]
  },
  {
   "cell_type": "code",
   "execution_count": 47,
   "metadata": {},
   "outputs": [
    {
     "name": "stdout",
     "output_type": "stream",
     "text": [
      "0.93125\n"
     ]
    }
   ],
   "source": [
    "print(New_Accuracy)"
   ]
  },
  {
   "cell_type": "code",
   "execution_count": 48,
   "metadata": {},
   "outputs": [],
   "source": [
    "confusion_matrix_result = confusion_matrix(np.array(y_test), new_y)"
   ]
  },
  {
   "cell_type": "code",
   "execution_count": 50,
   "metadata": {},
   "outputs": [
    {
     "name": "stdout",
     "output_type": "stream",
     "text": [
      "[[8 0 0 0 0 0 0 0 0 0 0 0 0 0 0 0 0 0 0 0]\n",
      " [0 8 0 0 0 0 0 0 0 0 0 0 0 0 0 0 0 0 0 0]\n",
      " [0 0 8 0 0 0 0 0 0 0 0 0 0 0 0 0 0 0 0 0]\n",
      " [0 0 0 8 0 0 0 0 0 0 0 0 0 0 0 0 0 0 0 0]\n",
      " [0 0 0 0 5 0 0 0 1 0 0 0 0 0 0 0 0 2 0 0]\n",
      " [0 0 0 0 0 8 0 0 0 0 0 0 0 0 0 0 0 0 0 0]\n",
      " [0 0 0 0 0 0 8 0 0 0 0 0 0 0 0 0 0 0 0 0]\n",
      " [0 0 0 0 0 0 0 8 0 0 0 0 0 0 0 0 0 0 0 0]\n",
      " [0 0 0 0 0 0 0 0 8 0 0 0 0 0 0 0 0 0 0 0]\n",
      " [0 0 0 0 0 0 0 2 0 6 0 0 0 0 0 0 0 0 0 0]\n",
      " [0 0 0 0 0 0 0 0 0 0 8 0 0 0 0 0 0 0 0 0]\n",
      " [0 0 0 0 0 0 0 0 0 0 0 8 0 0 0 0 0 0 0 0]\n",
      " [0 0 0 0 0 0 0 0 0 0 0 0 8 0 0 0 0 0 0 0]\n",
      " [0 0 0 0 0 0 0 0 0 0 0 0 0 8 0 0 0 0 0 0]\n",
      " [0 0 0 0 0 0 0 0 0 0 0 0 0 0 8 0 0 0 0 0]\n",
      " [1 0 0 0 0 0 0 0 0 0 1 0 1 0 0 5 0 0 0 0]\n",
      " [0 0 0 0 0 0 0 0 0 0 0 0 0 0 0 0 8 0 0 0]\n",
      " [0 0 0 0 0 0 0 0 0 0 0 0 0 0 0 0 0 8 0 0]\n",
      " [0 0 0 0 0 0 0 2 0 0 0 0 0 0 0 0 0 0 6 0]\n",
      " [0 0 1 0 0 0 0 0 0 0 0 0 0 0 0 0 0 0 0 7]]\n"
     ]
    }
   ],
   "source": [
    "print(confusion_matrix_result)"
   ]
  },
  {
   "cell_type": "code",
   "execution_count": 51,
   "metadata": {},
   "outputs": [],
   "source": [
    "test2 = np_utils.to_categorical(y_test,20)"
   ]
  },
  {
   "cell_type": "code",
   "execution_count": 52,
   "metadata": {},
   "outputs": [
    {
     "name": "stdout",
     "output_type": "stream",
     "text": [
      "[[1. 0. 0. ... 0. 0. 0.]\n",
      " [1. 0. 0. ... 0. 0. 0.]\n",
      " [1. 0. 0. ... 0. 0. 0.]\n",
      " ...\n",
      " [0. 0. 0. ... 0. 0. 1.]\n",
      " [0. 0. 0. ... 0. 0. 1.]\n",
      " [0. 0. 0. ... 0. 0. 1.]]\n"
     ]
    }
   ],
   "source": [
    "print(test2)"
   ]
  },
  {
   "cell_type": "code",
   "execution_count": 53,
   "metadata": {},
   "outputs": [
    {
     "name": "stdout",
     "output_type": "stream",
     "text": [
      "              precision    recall  f1-score   support\n",
      "\n",
      "           0       0.89      1.00      0.94         8\n",
      "           1       1.00      1.00      1.00         8\n",
      "           2       0.89      1.00      0.94         8\n",
      "           3       1.00      1.00      1.00         8\n",
      "           4       1.00      0.62      0.77         8\n",
      "           5       1.00      1.00      1.00         8\n",
      "           6       1.00      1.00      1.00         8\n",
      "           7       0.67      1.00      0.80         8\n",
      "           8       0.89      1.00      0.94         8\n",
      "           9       1.00      0.75      0.86         8\n",
      "          10       0.89      1.00      0.94         8\n",
      "          11       1.00      1.00      1.00         8\n",
      "          12       0.89      1.00      0.94         8\n",
      "          13       1.00      1.00      1.00         8\n",
      "          14       1.00      1.00      1.00         8\n",
      "          15       1.00      0.62      0.77         8\n",
      "          16       1.00      1.00      1.00         8\n",
      "          17       0.80      1.00      0.89         8\n",
      "          18       1.00      0.75      0.86         8\n",
      "          19       1.00      0.88      0.93         8\n",
      "\n",
      "    accuracy                           0.93       160\n",
      "   macro avg       0.95      0.93      0.93       160\n",
      "weighted avg       0.95      0.93      0.93       160\n",
      "\n"
     ]
    }
   ],
   "source": [
    "print(classification_report(np.array(y_test), new_y))"
   ]
  },
  {
   "cell_type": "code",
   "execution_count": 55,
   "metadata": {},
   "outputs": [],
   "source": [
    "#Accuracy is above 90%"
   ]
  }
 ],
 "metadata": {
  "kernelspec": {
   "display_name": "Python 3",
   "language": "python",
   "name": "python3"
  },
  "language_info": {
   "codemirror_mode": {
    "name": "ipython",
    "version": 3
   },
   "file_extension": ".py",
   "mimetype": "text/x-python",
   "name": "python",
   "nbconvert_exporter": "python",
   "pygments_lexer": "ipython3",
   "version": "3.7.3"
  }
 },
 "nbformat": 4,
 "nbformat_minor": 2
}
