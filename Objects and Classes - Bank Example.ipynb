{
 "cells": [
  {
   "cell_type": "markdown",
   "metadata": {},
   "source": [
    "# Programming – Course-End Project (Banking Domain)"
   ]
  },
  {
   "cell_type": "code",
   "execution_count": 112,
   "metadata": {},
   "outputs": [],
   "source": [
    "#Create a customer class with the following attributes:\n",
    "#o CustomerID\n",
    "#o custname\n",
    "#o address\n",
    "#o contactdetails"
   ]
  },
  {
   "cell_type": "code",
   "execution_count": 113,
   "metadata": {},
   "outputs": [],
   "source": [
    "class customer(bank):\n",
    "    def __init__(self, CustomerID, custname, address, contactdetails, IFSC_Code, bankname, branchname, loc):\n",
    "        super(customer,self).__init__(IFSC_Code, bankname, branchname, loc)\n",
    "        self.CustomerID = CustomerID\n",
    "        self.custname = custname\n",
    "        self.address = address\n",
    "        self.contactdetails = contactdetails"
   ]
  },
  {
   "cell_type": "code",
   "execution_count": 114,
   "metadata": {},
   "outputs": [],
   "source": [
    "#Create a bank class with the following attributes:\n",
    "#o IFSC_Code\n",
    "#o bankname\n",
    "#o branchname\n",
    "#o loc"
   ]
  },
  {
   "cell_type": "code",
   "execution_count": 115,
   "metadata": {},
   "outputs": [],
   "source": [
    "class bank:\n",
    "    def __init__(self, IFSC_Code, bankname, branchname, loc):\n",
    "        self.IFSC_Code = IFSC_Code\n",
    "        self.bankname = bankname\n",
    "        self.branchname = branchname\n",
    "        self.loc = loc"
   ]
  },
  {
   "cell_type": "code",
   "execution_count": 116,
   "metadata": {},
   "outputs": [],
   "source": [
    "#Create an account class that inherits from bank class with the following attributes (Use Super () to pass value to the base class):\n",
    "#● AccountID\n",
    "#● Cust Object of Customer\n",
    "#● balance\n",
    "#\n",
    "#Add the following methods to get account information, withdraw, and deposit: \n",
    "#● getAccountInfo() \n",
    "#● deposit(2000,'true') \n",
    "#● widthraw(500) \n",
    "#● getBalance()"
   ]
  },
  {
   "cell_type": "code",
   "execution_count": 117,
   "metadata": {},
   "outputs": [],
   "source": [
    "class account(customer):\n",
    "    def __init__(self, IFSC_Code, bankname, branchname, loc, AccountID, CustomerID, custname, address, contactdetails, balance):\n",
    "        super(account,self).__init__(CustomerID, custname, address, contactdetails, IFSC_Code, bankname, branchname, loc)\n",
    "        self.AccountID=AccountID\n",
    "        self.balance=balance\n",
    "        \n",
    "    def getSavingAccountInfo(self):\n",
    "        print('\\nGetSavingAccountInfo\\nPlease find your account details: \\nAccountID: {}\\nAddress: {}\\nBalance: {}\\nBank Name:{} \\nBranch Name:{} \\nIFSC:{} \\nfor {}\\n'.format(self.AccountID, self.address, self.balance, self.bankname, self.branchname, self.IFSC_Code, self.CustomerID)) \n",
    "\n",
    "    def deposit(self, amt, b):\n",
    "        self.balance = self.balance+amt\n",
    "        print('\\nDeposit\\nThe account balance: {} for ({}) {}'.format(self.balance, self.CustomerID, self.AccountID)) \n",
    "        print(self.AccountID, self.balance)\n",
    "\n",
    "    def widthraw(self, amt):\n",
    "        if self.balance < 500:\n",
    "            print(\"Widthraw - failed\")\n",
    "            print(\"Widthraw of {} failed for {}\".format(amt, self.CustomerID)) \n",
    "            print(\"Insuficient Funds!!!\")\n",
    "            print('The account balance: {} for {}'.format(self.balance, self.CustomerID)) \n",
    "        else:\n",
    "            self.balance = self.balance-amt\n",
    "            print(\"\\nWidthraw - successfull\")\n",
    "            print(\"Widthraw of {} done successfull for {}\".format(amt, self.CustomerID)) \n",
    "            print('Widthraw - The account balance: {} for {}'.format(self.balance, self.CustomerID)) \n",
    "\n",
    "    def getBalance(self):\n",
    "        print('\\nGetBalance\\nThe account balance: {} for {}'.format(self.balance, self.CustomerID)) \n"
   ]
  },
  {
   "cell_type": "code",
   "execution_count": 118,
   "metadata": {},
   "outputs": [
    {
     "name": "stdout",
     "output_type": "stream",
     "text": [
      "\n",
      "GetSavingAccountInfo\n",
      "Please find your account details: \n",
      "AccountID: 123456789\n",
      "Address: 46/1, The Eden, Main Rd, Ramaniyam, Velachery, Chennai, Tamil Nadu 600042\n",
      "Balance: 100\n",
      "Bank Name:HDFC Bank \n",
      "Branch Name:Velachery-Main \n",
      "IFSC:HDFC000000 \n",
      "for 123456\n",
      "\n",
      "\n",
      "Deposit\n",
      "The account balance: 2100 for (123456) 123456789\n",
      "123456789 2100\n",
      "\n",
      "Widthraw - successfull\n",
      "Widthraw of 500 done successfull for 123456\n",
      "Widthraw - The account balance: 1600 for 123456\n",
      "\n",
      "Widthraw - successfull\n",
      "Widthraw of 500 done successfull for 123456\n",
      "Widthraw - The account balance: 1100 for 123456\n",
      "\n",
      "Widthraw - successfull\n",
      "Widthraw of 500 done successfull for 123456\n",
      "Widthraw - The account balance: 600 for 123456\n",
      "\n",
      "Widthraw - successfull\n",
      "Widthraw of 500 done successfull for 123456\n",
      "Widthraw - The account balance: 100 for 123456\n",
      "Widthraw - failed\n",
      "Widthraw of 500 failed for 123456\n",
      "Insuficient Funds!!!\n",
      "The account balance: 100 for 123456\n",
      "\n",
      "GetBalance\n",
      "The account balance: 100 for 123456\n"
     ]
    }
   ],
   "source": [
    "acc = account(\"HDFC000000\",\"HDFC Bank\",\"Velachery-Main\",\"Velachery\",123456789,123456,\"Saai Murugan\", \"46/1, The Eden, Main Rd, Ramaniyam, Velachery, Chennai, Tamil Nadu 600042\",987654321,100)\n",
    "acc.getSavingAccountInfo()\n",
    "acc.deposit(2000,\"true\")\n",
    "acc.widthraw(500)\n",
    "acc.widthraw(500)\n",
    "acc.widthraw(500)\n",
    "acc.widthraw(500)\n",
    "acc.widthraw(500)\n",
    "acc.getBalance()"
   ]
  },
  {
   "cell_type": "markdown",
   "metadata": {},
   "source": [
    "-------------------------------------"
   ]
  },
  {
   "cell_type": "code",
   "execution_count": 119,
   "metadata": {},
   "outputs": [],
   "source": [
    "#Create a SavigsAccount class that inherits from the account with the following attributes (Use Super () to pass valued to the #base class):\n",
    "#\n",
    "#● SMinBalance\n",
    "#\n",
    "#Add the following methods to get account information, withdraw, and deposit:\n",
    "#● getSavingAccountInfo()\n",
    "#● deposit(2000,'true')\n",
    "#● widthraw(500)\n",
    "#● getBalance()"
   ]
  },
  {
   "cell_type": "code",
   "execution_count": 120,
   "metadata": {},
   "outputs": [],
   "source": [
    "class SavigsAccount(account):\n",
    "    def __init__(self, IFSC_Code, bankname, branchname, loc, AccountID, CustomerID, custname, address, contactdetails, balance, SMinBalance):\n",
    "        super(SavigsAccount,self).__init__(CustomerID, custname, address, contactdetails, IFSC_Code, bankname, branchname, loc, AccountID, balance)\n",
    "        self.SMinBalance = SMinBalance"
   ]
  },
  {
   "cell_type": "code",
   "execution_count": 121,
   "metadata": {},
   "outputs": [
    {
     "name": "stdout",
     "output_type": "stream",
     "text": [
      "\n",
      "GetSavingAccountInfo\n",
      "Please find your account details: \n",
      "AccountID: HDFC000000\n",
      "Address: Velachery\n",
      "Balance: 100\n",
      "Bank Name:Saai Murugan \n",
      "Branch Name:46/1, The Eden, Main Rd, Ramaniyam, Velachery, Chennai, Tamil Nadu 600042 \n",
      "IFSC:123456 \n",
      "for HDFC Bank\n",
      "\n",
      "\n",
      "Deposit\n",
      "The account balance: 2100 for (HDFC Bank) HDFC000000\n",
      "HDFC000000 2100\n",
      "\n",
      "Widthraw - successfull\n",
      "Widthraw of 500 done successfull for HDFC Bank\n",
      "Widthraw - The account balance: 1600 for HDFC Bank\n",
      "\n",
      "Widthraw - successfull\n",
      "Widthraw of 500 done successfull for HDFC Bank\n",
      "Widthraw - The account balance: 1100 for HDFC Bank\n",
      "\n",
      "Widthraw - successfull\n",
      "Widthraw of 500 done successfull for HDFC Bank\n",
      "Widthraw - The account balance: 600 for HDFC Bank\n",
      "\n",
      "Widthraw - successfull\n",
      "Widthraw of 500 done successfull for HDFC Bank\n",
      "Widthraw - The account balance: 100 for HDFC Bank\n",
      "Widthraw - failed\n",
      "Widthraw of 500 failed for HDFC Bank\n",
      "Insuficient Funds!!!\n",
      "The account balance: 100 for HDFC Bank\n",
      "\n",
      "GetBalance\n",
      "The account balance: 100 for HDFC Bank\n"
     ]
    }
   ],
   "source": [
    "acc = SavigsAccount(\"HDFC000000\",\"HDFC Bank\",\"Velachery-Main\",\"Velachery\",123456789,123456,\"Saai Murugan\", \"46/1, The Eden, Main Rd, Ramaniyam, Velachery, Chennai, Tamil Nadu 600042\",987654321,100, 500)\n",
    "acc.getSavingAccountInfo()\n",
    "acc.deposit(2000,\"true\")\n",
    "acc.widthraw(500)\n",
    "acc.widthraw(500)\n",
    "acc.widthraw(500)\n",
    "acc.widthraw(500)\n",
    "acc.widthraw(500)\n",
    "acc.getBalance()"
   ]
  },
  {
   "cell_type": "code",
   "execution_count": 122,
   "metadata": {},
   "outputs": [],
   "source": [
    "#Create a class that runs the program and accepts input from the end user to create respective class objects and print details. #Add a method to perform deposit and withdrawal transaction based on the end user input."
   ]
  },
  {
   "cell_type": "code",
   "execution_count": 123,
   "metadata": {},
   "outputs": [
    {
     "name": "stdout",
     "output_type": "stream",
     "text": [
      "\n",
      "GetSavingAccountInfo\n",
      "Please find your account details: \n",
      "AccountID: 123456789\n",
      "Address: 46/1, The Eden, Main Rd, Ramaniyam, Velachery, Chennai, Tamil Nadu 600042\n",
      "Balance: 100\n",
      "Bank Name:HDFC Bank \n",
      "Branch Name:Velachery-Main \n",
      "IFSC:HDFC000000 \n",
      "for 123456\n",
      "\n",
      "\n",
      "Deposit\n",
      "The account balance: 2100 for (123456) 123456789\n",
      "123456789 2100\n",
      "\n",
      "Widthraw - successfull\n",
      "Widthraw of 500 done successfull for 123456\n",
      "Widthraw - The account balance: 1600 for 123456\n",
      "\n",
      "Widthraw - successfull\n",
      "Widthraw of 500 done successfull for 123456\n",
      "Widthraw - The account balance: 1100 for 123456\n",
      "\n",
      "Widthraw - successfull\n",
      "Widthraw of 500 done successfull for 123456\n",
      "Widthraw - The account balance: 600 for 123456\n",
      "\n",
      "Widthraw - successfull\n",
      "Widthraw of 500 done successfull for 123456\n",
      "Widthraw - The account balance: 100 for 123456\n",
      "Widthraw - failed\n",
      "Widthraw of 500 failed for 123456\n",
      "Insuficient Funds!!!\n",
      "The account balance: 100 for 123456\n",
      "\n",
      "GetBalance\n",
      "The account balance: 100 for 123456\n",
      "\n",
      "GetSavingAccountInfo\n",
      "Please find your account details: \n",
      "AccountID: HDFC000000\n",
      "Address: Velachery\n",
      "Balance: 100\n",
      "Bank Name:Saai Murugan \n",
      "Branch Name:46/1, The Eden, Main Rd, Ramaniyam, Velachery, Chennai, Tamil Nadu 600042 \n",
      "IFSC:123456 \n",
      "for HDFC Bank\n",
      "\n",
      "\n",
      "Deposit\n",
      "The account balance: 2100 for (HDFC Bank) HDFC000000\n",
      "HDFC000000 2100\n",
      "\n",
      "Widthraw - successfull\n",
      "Widthraw of 500 done successfull for HDFC Bank\n",
      "Widthraw - The account balance: 1600 for HDFC Bank\n",
      "\n",
      "Widthraw - successfull\n",
      "Widthraw of 500 done successfull for HDFC Bank\n",
      "Widthraw - The account balance: 1100 for HDFC Bank\n",
      "\n",
      "Widthraw - successfull\n",
      "Widthraw of 500 done successfull for HDFC Bank\n",
      "Widthraw - The account balance: 600 for HDFC Bank\n",
      "\n",
      "Widthraw - successfull\n",
      "Widthraw of 500 done successfull for HDFC Bank\n",
      "Widthraw - The account balance: 100 for HDFC Bank\n",
      "Widthraw - failed\n",
      "Widthraw of 500 failed for HDFC Bank\n",
      "Insuficient Funds!!!\n",
      "The account balance: 100 for HDFC Bank\n",
      "\n",
      "GetBalance\n",
      "The account balance: 100 for HDFC Bank\n"
     ]
    }
   ],
   "source": [
    "class userInput():\n",
    "    acc = account(\"HDFC000000\",\"HDFC Bank\",\"Velachery-Main\",\"Velachery\",123456789,123456,\"Saai Murugan\", \"46/1, The Eden, Main Rd, Ramaniyam, Velachery, Chennai, Tamil Nadu 600042\",987654321,100)\n",
    "    acc.getSavingAccountInfo()\n",
    "    acc.deposit(2000,\"true\")\n",
    "    acc.widthraw(500)\n",
    "    acc.widthraw(500)\n",
    "    acc.widthraw(500)\n",
    "    acc.widthraw(500)\n",
    "    acc.widthraw(500)\n",
    "    acc.getBalance()\n",
    "    \n",
    "    acc = SavigsAccount(\"HDFC000000\",\"HDFC Bank\",\"Velachery-Main\",\"Velachery\",123456789,123456,\"Saai Murugan\", \"46/1, The Eden, Main Rd, Ramaniyam, Velachery, Chennai, Tamil Nadu 600042\",987654321,100, 500)\n",
    "    acc.getSavingAccountInfo()\n",
    "    acc.deposit(2000,\"true\")\n",
    "    acc.widthraw(500)\n",
    "    acc.widthraw(500)\n",
    "    acc.widthraw(500)\n",
    "    acc.widthraw(500)\n",
    "    acc.widthraw(500)\n",
    "    acc.getBalance()"
   ]
  }
 ],
 "metadata": {
  "kernelspec": {
   "display_name": "Python 3",
   "language": "python",
   "name": "python3"
  },
  "language_info": {
   "codemirror_mode": {
    "name": "ipython",
    "version": 3
   },
   "file_extension": ".py",
   "mimetype": "text/x-python",
   "name": "python",
   "nbconvert_exporter": "python",
   "pygments_lexer": "ipython3",
   "version": "3.7.3"
  }
 },
 "nbformat": 4,
 "nbformat_minor": 2
}
