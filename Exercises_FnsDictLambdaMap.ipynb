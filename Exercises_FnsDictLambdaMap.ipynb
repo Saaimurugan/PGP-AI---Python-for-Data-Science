{
 "cells": [
  {
   "cell_type": "markdown",
   "metadata": {},
   "source": [
    "### Exercises (Dictionary, Functions, Lambda, Map)"
   ]
  },
  {
   "cell_type": "markdown",
   "metadata": {},
   "source": [
    "1. Find the words with the maximum count in `romeo.txt`"
   ]
  },
  {
   "cell_type": "code",
   "execution_count": 2,
   "metadata": {},
   "outputs": [
    {
     "name": "stdout",
     "output_type": "stream",
     "text": [
      "The words \"['is', 'the', 'and']\" are repeated '3' times, which are the maximum\n"
     ]
    }
   ],
   "source": [
    "f = open(\"romeo.txt\", \"r\")\n",
    "fileContent = f.read()\n",
    "f.close()\n",
    "\n",
    "fileContent = fileContent.replace(\".\",\"\").replace(\"\\n\",\"\").replace(\",\",\"\").replace(\".\",\"\").replace(\"\\\\n\",\"\")\n",
    "contentList = fileContent.split()\n",
    "words = {i:contentList.count(i) for i in contentList}\n",
    "listOfKeys = [key  for (key, value) in words.items() if value == max(words.values())]\n",
    "if (len(listOfKeys) > 1):\n",
    "    print(\"The words \\\"{}\\\" are repeated \\'{}\\' times, which are the maximum\".format(listOfKeys, max(words.values()))) \n",
    "else:\n",
    "    print(\"The word \\\"{}\\\" is repeated \\'{}\\' times, which is the maximum\".format(listOfKeys, max(words.values()))) "
   ]
  },
  {
   "cell_type": "code",
   "execution_count": 3,
   "metadata": {},
   "outputs": [
    {
     "name": "stdout",
     "output_type": "stream",
     "text": [
      "2\n"
     ]
    }
   ],
   "source": [
    "# Please explain key = List.count \n",
    "def most_frequent(List): \n",
    "    return max(set(List), key = List.count) \n",
    "  \n",
    "List = [2, 1, 2, 2, 1, 3] \n",
    "print(most_frequent(List))"
   ]
  },
  {
   "cell_type": "markdown",
   "metadata": {},
   "source": [
    "2. Arrange all the words in decreasing order of word counts"
   ]
  },
  {
   "cell_type": "code",
   "execution_count": 54,
   "metadata": {},
   "outputs": [
    {
     "name": "stdout",
     "output_type": "stream",
     "text": [
      "['is', 'the', 'and', 'sun', 'But', 'soft', 'what', 'light', 'through', 'yonder', 'window', 'breaks', 'It', 'east', 'Juliet', 'Arise', 'fair', 'kill', 'envious', 'moon', 'Who', 'already', 'sick', 'pale', 'with', 'grief']\n"
     ]
    }
   ],
   "source": [
    "decreasingcontentListResult = []\n",
    "for j in [i+1 for i in reversed(range(max(words.values())))]:\n",
    "    decreasing_contentList = [key for (key, value) in words.items() if value == j]\n",
    "    decreasingcontentListResult.extend(decreasing_contentList)\n",
    "print(decreasingcontentListResult)"
   ]
  },
  {
   "cell_type": "markdown",
   "metadata": {},
   "source": [
    "3. Invert the following dictionary to indicate fruit and color"
   ]
  },
  {
   "cell_type": "code",
   "execution_count": 155,
   "metadata": {},
   "outputs": [
    {
     "name": "stdout",
     "output_type": "stream",
     "text": [
      "{'watermelon': 'green', 'pear': 'green', 'pomegranate': 'red', 'cherry': 'red', 'peach': 'orange', 'orange': 'orange', 'banana': 'yellow', 'plum': 'purple'}\n"
     ]
    }
   ],
   "source": [
    "fruit = {'green': ['watermelon', 'pear'],\n",
    " 'red': ['pomegranate', 'cherry'],\n",
    " 'orange': ['peach', 'orange'],\n",
    " 'yellow': ['banana'],\n",
    " 'purple': ['plum']}\n",
    "\n",
    "listOfColors = [key  for (key, value) in fruit.items()]\n",
    "print({fruit.get(listOfColors[i])[j]:listOfColors[i] for i in range(len(listOfColors)) for j in range(len(fruit.get(listOfColors[i])))})"
   ]
  },
  {
   "cell_type": "markdown",
   "metadata": {},
   "source": [
    "4. Create a function to count the number of i in all the arguments. Number of arguments are unknown"
   ]
  },
  {
   "cell_type": "code",
   "execution_count": 176,
   "metadata": {},
   "outputs": [
    {
     "name": "stdout",
     "output_type": "stream",
     "text": [
      "5\n"
     ]
    }
   ],
   "source": [
    "def myfunction(*args):\n",
    "    countOfI = 0\n",
    "    countOfI = sum([args[i].count(\"i\")  for i in range(len(args))])\n",
    "    print(countOfI)\n",
    "myfunction(\"Saai\", \"Saai\", \"iii\")"
   ]
  },
  {
   "cell_type": "markdown",
   "metadata": {},
   "source": [
    "5. Create a lambda function to extract the surname from the names: \"Samridhi Dutta\", \"Ronit Singh\", \"Narender Modi\""
   ]
  },
  {
   "cell_type": "markdown",
   "metadata": {},
   "source": [
    "6. Convert the following temp in degree celsius to fahrenheit using lambda and map fns."
   ]
  },
  {
   "cell_type": "code",
   "execution_count": 2,
   "metadata": {},
   "outputs": [],
   "source": [
    "temp = [36.5, 37, 37.5,39]\n",
    "#fahrenheit = (9/5)*temp + 32"
   ]
  },
  {
   "cell_type": "markdown",
   "metadata": {
    "colab_type": "text",
    "id": "SOhX64ui3wDJ"
   },
   "source": [
    "7. Create a basic function that returns True if the word 'dog' is contained in the input string. Don't worry about edge cases like a punctuation being attached to the word dog, but do account for capitalization."
   ]
  },
  {
   "cell_type": "code",
   "execution_count": null,
   "metadata": {
    "colab": {},
    "colab_type": "code",
    "id": "nIHjBJ853wDK"
   },
   "outputs": [],
   "source": [
    "def findDog(x):\n",
    "    pass"
   ]
  },
  {
   "cell_type": "code",
   "execution_count": null,
   "metadata": {
    "colab": {},
    "colab_type": "code",
    "id": "2ZrridzB3wDM",
    "outputId": "67c96529-354a-4887-e435-b163030c604d"
   },
   "outputs": [
    {
     "data": {
      "text/plain": [
       "True"
      ]
     },
     "execution_count": 28,
     "metadata": {
      "tags": []
     },
     "output_type": "execute_result"
    }
   ],
   "source": [
    "findDog('Is there a dog here?')"
   ]
  },
  {
   "cell_type": "markdown",
   "metadata": {
    "colab_type": "text",
    "id": "jdFVy3vs3wDO"
   },
   "source": [
    "8. Create a function that counts the number of times the word \"dog\" occurs in a string. Again ignore edge cases, where punctuation assigned to the word dog. "
   ]
  },
  {
   "cell_type": "code",
   "execution_count": null,
   "metadata": {
    "colab": {},
    "colab_type": "code",
    "id": "lsWvQYT_3wDP"
   },
   "outputs": [],
   "source": [
    "def countDog(x):\n",
    "    pass"
   ]
  },
  {
   "cell_type": "code",
   "execution_count": null,
   "metadata": {
    "colab": {},
    "colab_type": "code",
    "id": "EJz9s6UP3wDS",
    "outputId": "bc70cac7-bb49-4877-9115-1846d30bc252"
   },
   "outputs": [
    {
     "data": {
      "text/plain": [
       "2"
      ]
     },
     "execution_count": 31,
     "metadata": {
      "tags": []
     },
     "output_type": "execute_result"
    }
   ],
   "source": [
    "countDog('This dog runs faster than the other dog dude!')"
   ]
  },
  {
   "cell_type": "markdown",
   "metadata": {
    "colab_type": "text",
    "id": "DY2Qfy5A3wDU"
   },
   "source": [
    "9. Use lambda expressions and the filter() function to filter out words from a list that don't start with the letter 's'. For example:**\n",
    "\n",
    "    seq = ['soup','dog','salad','cat','great']\n",
    "\n",
    "**should be filtered down to:**\n",
    "\n",
    "    ['soup','salad']"
   ]
  },
  {
   "cell_type": "code",
   "execution_count": null,
   "metadata": {
    "colab": {},
    "colab_type": "code",
    "id": "FxgVxsxX3wDV"
   },
   "outputs": [],
   "source": [
    "seq = ['soup','dog','salad','cat','great']"
   ]
  },
  {
   "cell_type": "code",
   "execution_count": null,
   "metadata": {
    "colab": {},
    "colab_type": "code",
    "id": "N92BwjrG3wDZ",
    "outputId": "3c2d6b4f-21b7-46f1-fd31-a8099e301554"
   },
   "outputs": [
    {
     "data": {
      "text/plain": [
       "['soup', 'salad']"
      ]
     },
     "execution_count": 35,
     "metadata": {
      "tags": []
     },
     "output_type": "execute_result"
    }
   ],
   "source": []
  },
  {
   "cell_type": "markdown",
   "metadata": {
    "colab_type": "text",
    "id": "FRIKUtM83wDd"
   },
   "source": [
    "10. You are driving a little too fast, and a police officer stops you. Write a function\n",
    "  to return one of 3 possible results: \"No ticket\", \"Small ticket\", or \"Big Ticket\". \n",
    "  If your speed is 60 or less, the result is \"No Ticket\". If speed is between 61 \n",
    "  and 80 inclusive, the result is \"Small Ticket\". If speed is 81 or more, the result is \"Big    Ticket\". Unless it is your birthday (encoded as a boolean value in the parameters of the function) -- on your birthday, your speed can be 5 higher in all cases."
   ]
  },
  {
   "cell_type": "code",
   "execution_count": null,
   "metadata": {
    "colab": {},
    "colab_type": "code",
    "id": "vQxX1NQx3wDe"
   },
   "outputs": [],
   "source": [
    "def caught_speeding(speed, is_birthday):\n",
    "    pass"
   ]
  },
  {
   "cell_type": "code",
   "execution_count": null,
   "metadata": {
    "colab": {},
    "colab_type": "code",
    "id": "3jIHdPVG3wDg",
    "outputId": "f03c999b-6ba2-4c48-eda8-2f1c0787900c"
   },
   "outputs": [
    {
     "data": {
      "text/plain": [
       "'Small Ticket'"
      ]
     },
     "execution_count": 42,
     "metadata": {
      "tags": []
     },
     "output_type": "execute_result"
    }
   ],
   "source": [
    "caught_speeding(81,True)"
   ]
  },
  {
   "cell_type": "code",
   "execution_count": null,
   "metadata": {
    "colab": {},
    "colab_type": "code",
    "id": "kLYcJgHc3wDi",
    "outputId": "b40a6cd7-66e8-4bf1-cdd8-76010248ca28"
   },
   "outputs": [
    {
     "data": {
      "text/plain": [
       "'Big Ticket'"
      ]
     },
     "execution_count": 43,
     "metadata": {
      "tags": []
     },
     "output_type": "execute_result"
    }
   ],
   "source": [
    "caught_speeding(81,False)"
   ]
  },
  {
   "cell_type": "code",
   "execution_count": null,
   "metadata": {},
   "outputs": [],
   "source": []
  }
 ],
 "metadata": {
  "kernelspec": {
   "display_name": "Python 3",
   "language": "python",
   "name": "python3"
  },
  "language_info": {
   "codemirror_mode": {
    "name": "ipython",
    "version": 3
   },
   "file_extension": ".py",
   "mimetype": "text/x-python",
   "name": "python",
   "nbconvert_exporter": "python",
   "pygments_lexer": "ipython3",
   "version": "3.7.3"
  }
 },
 "nbformat": 4,
 "nbformat_minor": 2
}
