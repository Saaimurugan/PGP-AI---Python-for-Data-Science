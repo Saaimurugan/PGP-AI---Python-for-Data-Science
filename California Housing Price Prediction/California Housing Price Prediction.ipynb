{
 "cells": [
  {
   "cell_type": "code",
   "execution_count": 32,
   "metadata": {},
   "outputs": [],
   "source": [
    "import pandas as pd\n",
    "import numpy as np\n",
    "import matplotlib.pyplot as plt\n",
    "%matplotlib inline"
   ]
  },
  {
   "cell_type": "markdown",
   "metadata": {},
   "source": [
    "Comcast is an American global telecommunication company. The firm has been providing terrible customer service. They continue to fall short despite repeated promises to improve. Only last month (October 2016) the authority fined them a $2.3 million, after receiving over 1000 consumer complaints.\n",
    "The existing database will serve as a repository of public customer complaints filed against Comcast.\n",
    "It will help to pin down what is wrong with Comcast's customer service.\n",
    "Data Dictionary\n",
    "•\tTicket #: Ticket number assigned to each complaint\n",
    "•\tCustomer Complaint: Description of complaint\n",
    "•\tDate: Date of complaint\n",
    "•\tTime: Time of complaint\n",
    "•\tReceived Via: Mode of communication of the complaint\n",
    "•\tCity: Customer city\n",
    "•\tState: Customer state\n",
    "•\tZipcode: Customer zip\n",
    "•\tStatus: Status of complaint\n",
    "•\tFiling on behalf of someone\n",
    "\n",
    "Analysis Task\n",
    "To perform these tasks, you can use any of the different Python libraries such as NumPy, SciPy, Pandas, scikit-learn, matplotlib, and BeautifulSoup.\n",
    "- Import data into Python environment.\n",
    "- Provide the trend chart for the number of complaints at monthly and daily granularity levels.\n",
    "- Provide a table with the frequency of complaint types.\n",
    "•\tWhich complaint types are maximum i.e., around internet, network issues, or across any other domains.\n",
    "- Create a new categorical variable with value as Open and Closed. Open & Pending is to be categorized as Open and Closed & Solved is to be categorized as Closed.\n",
    "- Provide state wise status of complaints in a stacked bar chart. Use the categorized variable from Q3. Provide insights on:\n",
    "•\tWhich state has the maximum complaints\n",
    "•\tWhich state has the highest percentage of unresolved complaints\n",
    "- Provide the percentage of complaints resolved till date, which were received through the Internet and customer care calls."
   ]
  },
  {
   "cell_type": "code",
   "execution_count": 33,
   "metadata": {},
   "outputs": [],
   "source": [
    "comcast = pd.read_csv(r\"C:\\Users\\Vaibhav\\Desktop\\BA\\Datasets\\Comcast_telecom_complaints_data.csv\")"
   ]
  },
  {
   "cell_type": "code",
   "execution_count": 34,
   "metadata": {},
   "outputs": [
    {
     "data": {
      "text/html": [
       "<div>\n",
       "<style scoped>\n",
       "    .dataframe tbody tr th:only-of-type {\n",
       "        vertical-align: middle;\n",
       "    }\n",
       "\n",
       "    .dataframe tbody tr th {\n",
       "        vertical-align: top;\n",
       "    }\n",
       "\n",
       "    .dataframe thead th {\n",
       "        text-align: right;\n",
       "    }\n",
       "</style>\n",
       "<table border=\"1\" class=\"dataframe\">\n",
       "  <thead>\n",
       "    <tr style=\"text-align: right;\">\n",
       "      <th></th>\n",
       "      <th>Ticket #</th>\n",
       "      <th>Customer Complaint</th>\n",
       "      <th>Date</th>\n",
       "      <th>Date_month_year</th>\n",
       "      <th>Time</th>\n",
       "      <th>Received Via</th>\n",
       "      <th>City</th>\n",
       "      <th>State</th>\n",
       "      <th>Zip code</th>\n",
       "      <th>Status</th>\n",
       "      <th>Filing on Behalf of Someone</th>\n",
       "    </tr>\n",
       "  </thead>\n",
       "  <tbody>\n",
       "    <tr>\n",
       "      <th>0</th>\n",
       "      <td>250635</td>\n",
       "      <td>Comcast Cable Internet Speeds</td>\n",
       "      <td>22-04-15</td>\n",
       "      <td>22-Apr-15</td>\n",
       "      <td>3:53:50 PM</td>\n",
       "      <td>Customer Care Call</td>\n",
       "      <td>Abingdon</td>\n",
       "      <td>Maryland</td>\n",
       "      <td>21009</td>\n",
       "      <td>Closed</td>\n",
       "      <td>No</td>\n",
       "    </tr>\n",
       "    <tr>\n",
       "      <th>1</th>\n",
       "      <td>223441</td>\n",
       "      <td>Payment disappear - service got disconnected</td>\n",
       "      <td>04-08-15</td>\n",
       "      <td>04-Aug-15</td>\n",
       "      <td>10:22:56 AM</td>\n",
       "      <td>Internet</td>\n",
       "      <td>Acworth</td>\n",
       "      <td>Georgia</td>\n",
       "      <td>30102</td>\n",
       "      <td>Closed</td>\n",
       "      <td>No</td>\n",
       "    </tr>\n",
       "    <tr>\n",
       "      <th>2</th>\n",
       "      <td>242732</td>\n",
       "      <td>Speed and Service</td>\n",
       "      <td>18-04-15</td>\n",
       "      <td>18-Apr-15</td>\n",
       "      <td>9:55:47 AM</td>\n",
       "      <td>Internet</td>\n",
       "      <td>Acworth</td>\n",
       "      <td>Georgia</td>\n",
       "      <td>30101</td>\n",
       "      <td>Closed</td>\n",
       "      <td>Yes</td>\n",
       "    </tr>\n",
       "  </tbody>\n",
       "</table>\n",
       "</div>"
      ],
      "text/plain": [
       "  Ticket #                            Customer Complaint      Date  \\\n",
       "0   250635                 Comcast Cable Internet Speeds  22-04-15   \n",
       "1   223441  Payment disappear - service got disconnected  04-08-15   \n",
       "2   242732                             Speed and Service  18-04-15   \n",
       "\n",
       "  Date_month_year         Time        Received Via      City     State  \\\n",
       "0       22-Apr-15   3:53:50 PM  Customer Care Call  Abingdon  Maryland   \n",
       "1       04-Aug-15  10:22:56 AM            Internet   Acworth   Georgia   \n",
       "2       18-Apr-15   9:55:47 AM            Internet   Acworth   Georgia   \n",
       "\n",
       "   Zip code  Status Filing on Behalf of Someone  \n",
       "0     21009  Closed                          No  \n",
       "1     30102  Closed                          No  \n",
       "2     30101  Closed                         Yes  "
      ]
     },
     "execution_count": 34,
     "metadata": {},
     "output_type": "execute_result"
    }
   ],
   "source": [
    "comcast.head(3)"
   ]
  },
  {
   "cell_type": "code",
   "execution_count": 35,
   "metadata": {},
   "outputs": [
    {
     "data": {
      "text/plain": [
       "Ticket #                       0\n",
       "Customer Complaint             0\n",
       "Date                           0\n",
       "Date_month_year                0\n",
       "Time                           0\n",
       "Received Via                   0\n",
       "City                           0\n",
       "State                          0\n",
       "Zip code                       0\n",
       "Status                         0\n",
       "Filing on Behalf of Someone    0\n",
       "dtype: int64"
      ]
     },
     "execution_count": 35,
     "metadata": {},
     "output_type": "execute_result"
    }
   ],
   "source": [
    "comcast.isnull().sum()"
   ]
  },
  {
   "cell_type": "code",
   "execution_count": 36,
   "metadata": {},
   "outputs": [],
   "source": [
    "comcast[\"Date\"] = pd.to_datetime(comcast.Date, format = \"%d-%m-%y\")"
   ]
  },
  {
   "cell_type": "code",
   "execution_count": 37,
   "metadata": {},
   "outputs": [
    {
     "data": {
      "text/plain": [
       "<matplotlib.axes._subplots.AxesSubplot at 0x1826f87a358>"
      ]
     },
     "execution_count": 37,
     "metadata": {},
     "output_type": "execute_result"
    },
    {
     "data": {
      "image/png": "[encoded data removed]",
      "text/plain": [
       "<Figure size 1440x360 with 1 Axes>"
      ]
     },
     "metadata": {
      "needs_background": "light"
     },
     "output_type": "display_data"
    }
   ],
   "source": [
    "plt.figure(figsize = (20,5))\n",
    "comcast.groupby(\"Date\").count()[\"Ticket #\"].plot(kind = \"line\")"
   ]
  },
  {
   "cell_type": "code",
   "execution_count": 38,
   "metadata": {},
   "outputs": [],
   "source": [
    "#comcast.plot()"
   ]
  },
  {
   "cell_type": "markdown",
   "metadata": {},
   "source": [
    "#### To get the granularity level of month"
   ]
  },
  {
   "cell_type": "code",
   "execution_count": 39,
   "metadata": {},
   "outputs": [],
   "source": [
    "comcast[\"Month\"] = comcast[\"Date\"].apply(lambda x: x.month)"
   ]
  },
  {
   "cell_type": "code",
   "execution_count": 40,
   "metadata": {},
   "outputs": [
    {
     "data": {
      "text/plain": [
       "<matplotlib.axes._subplots.AxesSubplot at 0x1826dedc5f8>"
      ]
     },
     "execution_count": 40,
     "metadata": {},
     "output_type": "execute_result"
    },
    {
     "data": {
      "image/png": "[encoded data removed]",
      "text/plain": [
       "<Figure size 720x360 with 1 Axes>"
      ]
     },
     "metadata": {
      "needs_background": "light"
     },
     "output_type": "display_data"
    }
   ],
   "source": [
    "plt.figure(figsize = (10,5))\n",
    "comcast.groupby(\"Month\").count()[\"Ticket #\"].plot(kind = \"line\")"
   ]
  },
  {
   "cell_type": "markdown",
   "metadata": {},
   "source": [
    "#### Provide a table with the frequency of complaint types."
   ]
  },
  {
   "cell_type": "code",
   "execution_count": 41,
   "metadata": {},
   "outputs": [
    {
     "data": {
      "text/plain": [
       "Comcast                                                                                       83\n",
       "Comcast Internet                                                                              18\n",
       "Comcast Data Cap                                                                              17\n",
       "comcast                                                                                       13\n",
       "Comcast Billing                                                                               11\n",
       "Data Caps                                                                                     11\n",
       "Comcast Data Caps                                                                             11\n",
       "Unfair Billing Practices                                                                       9\n",
       "Data Cap                                                                                       8\n",
       "Comcast data caps                                                                              8\n",
       "Comcast internet                                                                               8\n",
       "Comcast/Xfinity                                                                                8\n",
       "Comcast data cap                                                                               8\n",
       "Internet speed                                                                                 8\n",
       "COMCAST                                                                                        6\n",
       "Comcast billing                                                                                6\n",
       "Comcast service                                                                                6\n",
       "Billing                                                                                        6\n",
       "Comcast Service                                                                                6\n",
       "Internet Speed                                                                                 5\n",
       "Comcast Internet Service                                                                       5\n",
       "Comcast Complaint                                                                              5\n",
       "Comcast complaint                                                                              5\n",
       "Billing Dispute                                                                                4\n",
       "Comcast Issues                                                                                 4\n",
       "comcast data cap                                                                               4\n",
       "Internet service                                                                               4\n",
       "Comcast internet service                                                                       4\n",
       "availabilty                                                                                    4\n",
       "Comcast Unfair Billing Practices                                                               4\n",
       "                                                                                              ..\n",
       "Complaint against Comcast for provisioning of Internet Service ar Residential Address          1\n",
       "Service connection issues, increased billing, bad service, unfair trade practices              1\n",
       "Outrageous Comcast charges                                                                     1\n",
       "Slower internet speeds than what i was promised for my pay.                                    1\n",
       "Prolonged internet outage, tardy response                                                      1\n",
       "ComCast continues to bill me though I canceled months ago                                      1\n",
       "Awful Service!                                                                                 1\n",
       "Unfair Pricing                                                                                 1\n",
       "Poor internet quality                                                                          1\n",
       "Dishonest Billing Practices                                                                    1\n",
       "Comcast overcharge                                                                             1\n",
       "Interrnet Service                                                                              1\n",
       "Complaint about Comcast                                                                        1\n",
       "Denial of service                                                                              1\n",
       "Comcast Service Issues                                                                         1\n",
       "Refusal to Prorate for Services Not Recieved                                                   1\n",
       "COMCAST INTERNET                                                                               1\n",
       "Comcast Rate Hike                                                                              1\n",
       "Comcast repeatedly failing to install Internet service                                         1\n",
       "Issues with Comcast billing and equipment                                                      1\n",
       "Comcast services not working                                                                   1\n",
       "Billed for modem rental for several years, Comcast refuses to refund under \"caveat emptor\"     1\n",
       "Fraudulent Billing practices by Comcast                                                        1\n",
       "Comcast DATA Caps                                                                              1\n",
       "Horrific billing                                                                               1\n",
       "Low internet quality                                                                           1\n",
       "Lost emails/billing                                                                            1\n",
       "Comcast charges me for 25m connection, Get 5 down/11 up                                        1\n",
       "Comcast Unfair Business Practices                                                              1\n",
       "Refund issues                                                                                  1\n",
       "Name: Customer Complaint, Length: 1841, dtype: int64"
      ]
     },
     "execution_count": 41,
     "metadata": {},
     "output_type": "execute_result"
    }
   ],
   "source": [
    "comcast[\"Customer Complaint\"].value_counts() #complaint types: comcast service, internet, data, billing"
   ]
  },
  {
   "cell_type": "markdown",
   "metadata": {},
   "source": [
    "#### Q. Which complaint types are maximum i.e., around internet, network issues, or across any other domains."
   ]
  },
  {
   "cell_type": "code",
   "execution_count": 42,
   "metadata": {},
   "outputs": [
    {
     "data": {
      "text/html": [
       "<div>\n",
       "<style scoped>\n",
       "    .dataframe tbody tr th:only-of-type {\n",
       "        vertical-align: middle;\n",
       "    }\n",
       "\n",
       "    .dataframe tbody tr th {\n",
       "        vertical-align: top;\n",
       "    }\n",
       "\n",
       "    .dataframe thead th {\n",
       "        text-align: right;\n",
       "    }\n",
       "</style>\n",
       "<table border=\"1\" class=\"dataframe\">\n",
       "  <thead>\n",
       "    <tr style=\"text-align: right;\">\n",
       "      <th></th>\n",
       "      <th>Ticket #</th>\n",
       "      <th>Customer Complaint</th>\n",
       "      <th>Date</th>\n",
       "      <th>Date_month_year</th>\n",
       "      <th>Time</th>\n",
       "      <th>Received Via</th>\n",
       "      <th>City</th>\n",
       "      <th>State</th>\n",
       "      <th>Zip code</th>\n",
       "      <th>Status</th>\n",
       "      <th>Filing on Behalf of Someone</th>\n",
       "      <th>Month</th>\n",
       "    </tr>\n",
       "  </thead>\n",
       "  <tbody>\n",
       "    <tr>\n",
       "      <th>0</th>\n",
       "      <td>250635</td>\n",
       "      <td>Comcast Cable Internet Speeds</td>\n",
       "      <td>2015-04-22</td>\n",
       "      <td>22-Apr-15</td>\n",
       "      <td>3:53:50 PM</td>\n",
       "      <td>Customer Care Call</td>\n",
       "      <td>Abingdon</td>\n",
       "      <td>Maryland</td>\n",
       "      <td>21009</td>\n",
       "      <td>Closed</td>\n",
       "      <td>No</td>\n",
       "      <td>4</td>\n",
       "    </tr>\n",
       "    <tr>\n",
       "      <th>1</th>\n",
       "      <td>223441</td>\n",
       "      <td>Payment disappear - service got disconnected</td>\n",
       "      <td>2015-08-04</td>\n",
       "      <td>04-Aug-15</td>\n",
       "      <td>10:22:56 AM</td>\n",
       "      <td>Internet</td>\n",
       "      <td>Acworth</td>\n",
       "      <td>Georgia</td>\n",
       "      <td>30102</td>\n",
       "      <td>Closed</td>\n",
       "      <td>No</td>\n",
       "      <td>8</td>\n",
       "    </tr>\n",
       "    <tr>\n",
       "      <th>2</th>\n",
       "      <td>242732</td>\n",
       "      <td>Speed and Service</td>\n",
       "      <td>2015-04-18</td>\n",
       "      <td>18-Apr-15</td>\n",
       "      <td>9:55:47 AM</td>\n",
       "      <td>Internet</td>\n",
       "      <td>Acworth</td>\n",
       "      <td>Georgia</td>\n",
       "      <td>30101</td>\n",
       "      <td>Closed</td>\n",
       "      <td>Yes</td>\n",
       "      <td>4</td>\n",
       "    </tr>\n",
       "  </tbody>\n",
       "</table>\n",
       "</div>"
      ],
      "text/plain": [
       "  Ticket #                            Customer Complaint       Date  \\\n",
       "0   250635                 Comcast Cable Internet Speeds 2015-04-22   \n",
       "1   223441  Payment disappear - service got disconnected 2015-08-04   \n",
       "2   242732                             Speed and Service 2015-04-18   \n",
       "\n",
       "  Date_month_year         Time        Received Via      City     State  \\\n",
       "0       22-Apr-15   3:53:50 PM  Customer Care Call  Abingdon  Maryland   \n",
       "1       04-Aug-15  10:22:56 AM            Internet   Acworth   Georgia   \n",
       "2       18-Apr-15   9:55:47 AM            Internet   Acworth   Georgia   \n",
       "\n",
       "   Zip code  Status Filing on Behalf of Someone  Month  \n",
       "0     21009  Closed                          No      4  \n",
       "1     30102  Closed                          No      8  \n",
       "2     30101  Closed                         Yes      4  "
      ]
     },
     "execution_count": 42,
     "metadata": {},
     "output_type": "execute_result"
    }
   ],
   "source": [
    "comcast.head(3)"
   ]
  },
  {
   "cell_type": "code",
   "execution_count": 43,
   "metadata": {},
   "outputs": [],
   "source": [
    "import re\n",
    "comcast[\"Complaint_Type_Internet\"] = [re.search(\"([Ii]nternet)\", comcast[\"Customer Complaint\"][i])!=None for i in range(comcast.shape[0])]"
   ]
  },
  {
   "cell_type": "code",
   "execution_count": 44,
   "metadata": {},
   "outputs": [],
   "source": [
    "comcast[\"Complaint_Type_Data\"] = [re.search(\"([Dd]ata)\", comcast[\"Customer Complaint\"][i])!=None for i in range(comcast.shape[0])]"
   ]
  },
  {
   "cell_type": "code",
   "execution_count": 45,
   "metadata": {},
   "outputs": [],
   "source": [
    "comcast[\"Complaint_Type_Billing\"] = [re.search(\"[Bb]illing\", comcast[\"Customer Complaint\"][i])!=None for i in range(comcast.shape[0])]"
   ]
  },
  {
   "cell_type": "code",
   "execution_count": 46,
   "metadata": {},
   "outputs": [
    {
     "data": {
      "text/plain": [
       "<_sre.SRE_Match object; span=(10, 17), match='Service'>"
      ]
     },
     "execution_count": 46,
     "metadata": {},
     "output_type": "execute_result"
    }
   ],
   "source": [
    "re.search(\"([cC][oO][Mm][cC][Aa][Ss][Tt])$|([Ss]ervice)\", comcast[\"Customer Complaint\"][2])"
   ]
  },
  {
   "cell_type": "code",
   "execution_count": 47,
   "metadata": {},
   "outputs": [],
   "source": [
    "comcast[\"Complaint_Type_Service\"] = [re.search(\"([cC][oO][Mm][cC][Aa][Ss][Tt])$|([Ss]ervice)\", comcast[\"Customer Complaint\"][i])!=None for i in range(comcast.shape[0])]"
   ]
  },
  {
   "cell_type": "code",
   "execution_count": 48,
   "metadata": {},
   "outputs": [
    {
     "data": {
      "text/plain": [
       "Complaint_Type_Internet    523\n",
       "Complaint_Type_Data        216\n",
       "Complaint_Type_Billing     291\n",
       "Complaint_Type_Service     660\n",
       "dtype: int64"
      ]
     },
     "execution_count": 48,
     "metadata": {},
     "output_type": "execute_result"
    }
   ],
   "source": [
    "comcast[[\"Complaint_Type_Internet\", \"Complaint_Type_Data\", \"Complaint_Type_Billing\", \"Complaint_Type_Service\"]].sum()"
   ]
  },
  {
   "cell_type": "code",
   "execution_count": 49,
   "metadata": {},
   "outputs": [],
   "source": [
    "#Max complaints are of the type service"
   ]
  },
  {
   "cell_type": "markdown",
   "metadata": {},
   "source": [
    "#### Create a new categorical variable with value as Open and Closed. Open & Pending is to be categorized as Open and Closed & Solved is to be categorized as Closed."
   ]
  },
  {
   "cell_type": "code",
   "execution_count": 50,
   "metadata": {},
   "outputs": [
    {
     "data": {
      "text/plain": [
       "Solved     973\n",
       "Closed     734\n",
       "Open       363\n",
       "Pending    154\n",
       "Name: Status, dtype: int64"
      ]
     },
     "execution_count": 50,
     "metadata": {},
     "output_type": "execute_result"
    }
   ],
   "source": [
    "pd.value_counts(comcast.Status, dropna=False)"
   ]
  },
  {
   "cell_type": "code",
   "execution_count": 51,
   "metadata": {},
   "outputs": [
    {
     "data": {
      "text/plain": [
       "Closed    1707\n",
       "Open       517\n",
       "Name: Status, dtype: int64"
      ]
     },
     "execution_count": 51,
     "metadata": {},
     "output_type": "execute_result"
    }
   ],
   "source": [
    "comcast[\"Status\"] = comcast[\"Status\"].replace({\"Pending\":\"Open\",\n",
    "                                               \"Solved\": \"Closed\"})\n",
    "pd.value_counts(comcast.Status, dropna=False)"
   ]
  },
  {
   "cell_type": "markdown",
   "metadata": {},
   "source": [
    "Provide state wise status of complaints in a stacked bar chart. Use the categorized variable from Q3. Provide insights on:\n",
    "\n",
    "•\tWhich state has the maximum complaints\n",
    "\n",
    "•\tWhich state has the highest percentage of unresolved complaints"
   ]
  },
  {
   "cell_type": "code",
   "execution_count": 30,
   "metadata": {},
   "outputs": [
    {
     "data": {
      "text/plain": [
       "<matplotlib.axes._subplots.AxesSubplot at 0x1826ded1e10>"
      ]
     },
     "execution_count": 30,
     "metadata": {},
     "output_type": "execute_result"
    },
    {
     "data": {
      "image/png": "[encoded data removed]",
      "text/plain": [
       "<Figure size 1080x360 with 1 Axes>"
      ]
     },
     "metadata": {
      "needs_background": "light"
     },
     "output_type": "display_data"
    }
   ],
   "source": [
    "plt.figure(figsize=(15,5))\n",
    "pd.value_counts(comcast.State).plot(kind = \"bar\")"
   ]
  },
  {
   "cell_type": "code",
   "execution_count": 86,
   "metadata": {},
   "outputs": [
    {
     "data": {
      "image/png": "[encoded data removed]",
      "text/plain": [
       "<Figure size 1080x360 with 1 Axes>"
      ]
     },
     "metadata": {
      "needs_background": "light"
     },
     "output_type": "display_data"
    }
   ],
   "source": [
    "pd.crosstab(comcast.State, comcast.Status).plot(kind = \"bar\", figsize = (15,5) )\n",
    "plt.show()"
   ]
  },
  {
   "cell_type": "markdown",
   "metadata": {},
   "source": [
    "#### - Provide the percentage of complaints resolved till date, which were received through the Internet and customer care calls."
   ]
  },
  {
   "cell_type": "code",
   "execution_count": 109,
   "metadata": {},
   "outputs": [
    {
     "data": {
      "text/html": [
       "<div>\n",
       "<style scoped>\n",
       "    .dataframe tbody tr th:only-of-type {\n",
       "        vertical-align: middle;\n",
       "    }\n",
       "\n",
       "    .dataframe tbody tr th {\n",
       "        vertical-align: top;\n",
       "    }\n",
       "\n",
       "    .dataframe thead th {\n",
       "        text-align: right;\n",
       "    }\n",
       "</style>\n",
       "<table border=\"1\" class=\"dataframe\">\n",
       "  <thead>\n",
       "    <tr style=\"text-align: right;\">\n",
       "      <th></th>\n",
       "      <th>Ticket #</th>\n",
       "      <th>Customer Complaint</th>\n",
       "      <th>Date</th>\n",
       "      <th>Date_month_year</th>\n",
       "      <th>Time</th>\n",
       "      <th>Received Via</th>\n",
       "      <th>City</th>\n",
       "      <th>State</th>\n",
       "      <th>Zip code</th>\n",
       "      <th>Status</th>\n",
       "      <th>Filing on Behalf of Someone</th>\n",
       "      <th>Month</th>\n",
       "      <th>Internet</th>\n",
       "      <th>Data</th>\n",
       "      <th>Complaint_Type_Internet</th>\n",
       "      <th>Complaint_Type_Data</th>\n",
       "      <th>Complaint_Type_Billing</th>\n",
       "      <th>Complaint_Type_Service</th>\n",
       "    </tr>\n",
       "  </thead>\n",
       "  <tbody>\n",
       "    <tr>\n",
       "      <th>1</th>\n",
       "      <td>223441</td>\n",
       "      <td>Payment disappear - service got disconnected</td>\n",
       "      <td>2015-08-04</td>\n",
       "      <td>04-Aug-15</td>\n",
       "      <td>10:22:56 AM</td>\n",
       "      <td>Internet</td>\n",
       "      <td>Acworth</td>\n",
       "      <td>Georgia</td>\n",
       "      <td>30102</td>\n",
       "      <td>Closed</td>\n",
       "      <td>No</td>\n",
       "      <td>8</td>\n",
       "      <td>False</td>\n",
       "      <td>False</td>\n",
       "      <td>False</td>\n",
       "      <td>False</td>\n",
       "      <td>False</td>\n",
       "      <td>True</td>\n",
       "    </tr>\n",
       "    <tr>\n",
       "      <th>2</th>\n",
       "      <td>242732</td>\n",
       "      <td>Speed and Service</td>\n",
       "      <td>2015-04-18</td>\n",
       "      <td>18-Apr-15</td>\n",
       "      <td>9:55:47 AM</td>\n",
       "      <td>Internet</td>\n",
       "      <td>Acworth</td>\n",
       "      <td>Georgia</td>\n",
       "      <td>30101</td>\n",
       "      <td>Closed</td>\n",
       "      <td>Yes</td>\n",
       "      <td>4</td>\n",
       "      <td>False</td>\n",
       "      <td>False</td>\n",
       "      <td>False</td>\n",
       "      <td>False</td>\n",
       "      <td>False</td>\n",
       "      <td>True</td>\n",
       "    </tr>\n",
       "    <tr>\n",
       "      <th>3</th>\n",
       "      <td>277946</td>\n",
       "      <td>Comcast Imposed a New Usage Cap of 300GB that ...</td>\n",
       "      <td>2015-07-05</td>\n",
       "      <td>05-Jul-15</td>\n",
       "      <td>11:59:35 AM</td>\n",
       "      <td>Internet</td>\n",
       "      <td>Acworth</td>\n",
       "      <td>Georgia</td>\n",
       "      <td>30101</td>\n",
       "      <td>Open</td>\n",
       "      <td>Yes</td>\n",
       "      <td>7</td>\n",
       "      <td>False</td>\n",
       "      <td>False</td>\n",
       "      <td>False</td>\n",
       "      <td>False</td>\n",
       "      <td>False</td>\n",
       "      <td>False</td>\n",
       "    </tr>\n",
       "    <tr>\n",
       "      <th>4</th>\n",
       "      <td>307175</td>\n",
       "      <td>Comcast not working and no service to boot</td>\n",
       "      <td>2015-05-26</td>\n",
       "      <td>26-May-15</td>\n",
       "      <td>1:25:26 PM</td>\n",
       "      <td>Internet</td>\n",
       "      <td>Acworth</td>\n",
       "      <td>Georgia</td>\n",
       "      <td>30101</td>\n",
       "      <td>Closed</td>\n",
       "      <td>No</td>\n",
       "      <td>5</td>\n",
       "      <td>False</td>\n",
       "      <td>False</td>\n",
       "      <td>False</td>\n",
       "      <td>False</td>\n",
       "      <td>False</td>\n",
       "      <td>True</td>\n",
       "    </tr>\n",
       "    <tr>\n",
       "      <th>5</th>\n",
       "      <td>338519</td>\n",
       "      <td>ISP Charging for arbitrary data limits with ov...</td>\n",
       "      <td>2015-12-06</td>\n",
       "      <td>06-Dec-15</td>\n",
       "      <td>9:59:40 PM</td>\n",
       "      <td>Internet</td>\n",
       "      <td>Acworth</td>\n",
       "      <td>Georgia</td>\n",
       "      <td>30101</td>\n",
       "      <td>Closed</td>\n",
       "      <td>No</td>\n",
       "      <td>12</td>\n",
       "      <td>False</td>\n",
       "      <td>True</td>\n",
       "      <td>False</td>\n",
       "      <td>True</td>\n",
       "      <td>False</td>\n",
       "      <td>False</td>\n",
       "    </tr>\n",
       "  </tbody>\n",
       "</table>\n",
       "</div>"
      ],
      "text/plain": [
       "  Ticket #                                 Customer Complaint       Date  \\\n",
       "1   223441       Payment disappear - service got disconnected 2015-08-04   \n",
       "2   242732                                  Speed and Service 2015-04-18   \n",
       "3   277946  Comcast Imposed a New Usage Cap of 300GB that ... 2015-07-05   \n",
       "4   307175         Comcast not working and no service to boot 2015-05-26   \n",
       "5   338519  ISP Charging for arbitrary data limits with ov... 2015-12-06   \n",
       "\n",
       "  Date_month_year         Time Received Via     City    State  Zip code  \\\n",
       "1       04-Aug-15  10:22:56 AM     Internet  Acworth  Georgia     30102   \n",
       "2       18-Apr-15   9:55:47 AM     Internet  Acworth  Georgia     30101   \n",
       "3       05-Jul-15  11:59:35 AM     Internet  Acworth  Georgia     30101   \n",
       "4       26-May-15   1:25:26 PM     Internet  Acworth  Georgia     30101   \n",
       "5       06-Dec-15   9:59:40 PM     Internet  Acworth  Georgia     30101   \n",
       "\n",
       "   Status Filing on Behalf of Someone  Month  Internet   Data  \\\n",
       "1  Closed                          No      8     False  False   \n",
       "2  Closed                         Yes      4     False  False   \n",
       "3    Open                         Yes      7     False  False   \n",
       "4  Closed                          No      5     False  False   \n",
       "5  Closed                          No     12     False   True   \n",
       "\n",
       "   Complaint_Type_Internet  Complaint_Type_Data  Complaint_Type_Billing  \\\n",
       "1                    False                False                   False   \n",
       "2                    False                False                   False   \n",
       "3                    False                False                   False   \n",
       "4                    False                False                   False   \n",
       "5                    False                 True                   False   \n",
       "\n",
       "   Complaint_Type_Service  \n",
       "1                    True  \n",
       "2                    True  \n",
       "3                   False  \n",
       "4                    True  \n",
       "5                   False  "
      ]
     },
     "execution_count": 109,
     "metadata": {},
     "output_type": "execute_result"
    }
   ],
   "source": [
    "comcast[comcast[\"Received Via\"].isin([\"Internet\", \"Customer Care\"])].head()"
   ]
  },
  {
   "cell_type": "code",
   "execution_count": 112,
   "metadata": {},
   "outputs": [
    {
     "data": {
      "text/plain": [
       "Status\n",
       "Closed    0.762896\n",
       "Open      0.237104\n",
       "Name: Ticket #, dtype: float64"
      ]
     },
     "execution_count": 112,
     "metadata": {},
     "output_type": "execute_result"
    }
   ],
   "source": [
    "comcast[comcast[\"Received Via\"].isin([\"Internet\", \"Customer Care\"])].groupby(\"Status\").count()[\"Ticket #\"]/sum(comcast[comcast[\"Received Via\"].isin([\"Internet\", \"Customer Care\"])].groupby(\"Status\").count()[\"Ticket #\"])"
   ]
  }
 ],
 "metadata": {
  "kernelspec": {
   "display_name": "Python 3",
   "language": "python",
   "name": "python3"
  },
  "language_info": {
   "codemirror_mode": {
    "name": "ipython",
    "version": 3
   },
   "file_extension": ".py",
   "mimetype": "text/x-python",
   "name": "python",
   "nbconvert_exporter": "python",
   "pygments_lexer": "ipython3",
   "version": "3.7.3"
  }
 },
 "nbformat": 4,
 "nbformat_minor": 2
}
