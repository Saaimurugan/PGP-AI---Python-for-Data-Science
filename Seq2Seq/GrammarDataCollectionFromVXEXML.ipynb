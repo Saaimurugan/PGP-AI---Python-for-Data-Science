{
 "cells": [
  {
   "cell_type": "code",
   "execution_count": 21,
   "metadata": {},
   "outputs": [],
   "source": [
    "import os\n",
    "import re\n",
    "from re import search\n",
    "import xml.etree.ElementTree as ET\n",
    "import sys\n",
    "import numpy as np \n",
    "\n",
    "import nltk\n",
    "from nltk.corpus import stopwords\n",
    "\n",
    "from nltk.corpus import stopwords \n",
    "from nltk.tokenize import word_tokenize "
   ]
  },
  {
   "cell_type": "code",
   "execution_count": 22,
   "metadata": {},
   "outputs": [],
   "source": [
    "from nltk.tokenize import sent_tokenize, word_tokenize"
   ]
  },
  {
   "cell_type": "code",
   "execution_count": 23,
   "metadata": {},
   "outputs": [],
   "source": [
    "files = os.listdir('xmlT/')"
   ]
  },
  {
   "cell_type": "code",
   "execution_count": 24,
   "metadata": {},
   "outputs": [],
   "source": [
    "def xpathClean(file):\n",
    "    XMLString = \"\"\n",
    "    if os.path.isfile(os.path.join('xml/', file)):\n",
    "        fr = open(os.path.join('xml/', file), \"r\", encoding=\"utf-8\")\n",
    "        #print (os.path.join('xml/', file))\n",
    "        try:\n",
    "            root = ET.parse(fr)\n",
    "            result = '' \n",
    "            for element in root.findall('.//span'):\n",
    "                if element.attrib.get('class'):\n",
    "                    if \"del\" in element.attrib.get('class'):\n",
    "                        #print(element.tag)\n",
    "                        #print(element.attrib.get('data-time'))\n",
    "                        #print(element.text)\n",
    "                        element.tag = 'del'\n",
    "                        #print(element.tag)\n",
    "                        #print(\"\")\n",
    "                    elif \"ins\" in element.attrib.get('class'):\n",
    "                        #print(element.tag)\n",
    "                        #print(element.attrib.get('data-time'))\n",
    "                        #print(element.text)\n",
    "                        element.tag = 'ins'\n",
    "                        #print(element.tag)\n",
    "                        #print(\"\")\n",
    "\n",
    "            XML = root.getroot()\n",
    "            XMLString = ET.tostring(XML, encoding='unicode')\n",
    "        except:\n",
    "            print(\"xpathClean - Oops!\", sys.exc_info()[0], \"occurred.\")\n",
    "            print (os.path.join('xml/', file))\n",
    "        fr.close\n",
    "       \n",
    "    return XMLString"
   ]
  },
  {
   "cell_type": "code",
   "execution_count": 25,
   "metadata": {},
   "outputs": [
    {
     "name": "stdout",
     "output_type": "stream",
     "text": [
      "ECC_190234_nlm_new_2019-08-14_150634.xml\n",
      "ECC_190340_nlm_new_2019-12-04_141537.xml\n",
      "ECC_190348_nlm_new_2019-10-15_105202.xml\n",
      "ECC_190348_nlm_new_2019-10-15_121515.xml\n",
      "ECC_190348_nlm_new_2019-10-15_160858.xml\n"
     ]
    }
   ],
   "source": [
    "Words = []\n",
    "\n",
    "for file in files:\n",
    "    print(file)\n",
    "    Changes = []\n",
    "    try:\n",
    "        line = xpathClean(file)\n",
    "    except:\n",
    "        print(\"Oops!\", sys.exc_info()[0], \"occurred.\")\n",
    "        \n",
    "    #print(line)\n",
    "    #print('in')\n",
    "    \n",
    "    line = re.sub(r' store=\"[^\"]*\"', '', line, flags=re.IGNORECASE)\n",
    "    line = line.replace(' contenteditable=\"true\"',\"\")\n",
    "    line = re.sub(r'<journal>.*?<body1[^>]*>', '<body>', line, flags=re.IGNORECASE)\n",
    "    line = re.sub(r'</body1>.*?</journal>', '</body>', line, flags=re.IGNORECASE)\n",
    "    line = re.sub(r'<img[^>]+>','', line, flags=re.IGNORECASE)\n",
    "    line = line.replace(\"</pp1>\",\"</p>\")\n",
    "    line = line.replace(\"</title1>\",\"</h3>\")\n",
    "    line = line.replace(\"<ins>−</ins>\",\"−\")\n",
    "    line = line.replace(\"<del>-</del>\",\"\")\n",
    "    line = line.replace(\"<del>percent</del>\",\"\")\n",
    "    line = line.replace(\"<ins>%</ins>\",\"%\")\n",
    "    line = line.replace(\"</del>\",\"[/del]\")\n",
    "    line = line.replace(\"</ins>\",\"[/ins]\")\n",
    "    line = re.sub(r'<pp1[^>]*>', '\\n<p>', line, flags=re.IGNORECASE)\n",
    "    line = re.sub(r'<title1 [^>]*>', '\\n<h3>', line, flags=re.IGNORECASE)\n",
    "    line = re.sub(r'<del[^>]*>', '[del]', line, flags=re.IGNORECASE)\n",
    "    line = re.sub(r'<ins[^>]*>', '[ins]', line, flags=re.IGNORECASE)\n",
    "    line = re.sub(r'<xref[^>]*>(.*?)</xref>', '\\\\1', line, flags=re.IGNORECASE)\n",
    "    line = re.sub(r'<sec [^>]*>', '', line, flags=re.IGNORECASE)\n",
    "    line = re.sub(r'<i [^>]*>', '', line, flags=re.IGNORECASE)\n",
    "    line = re.sub(r'<query[^>]*>', '', line, flags=re.IGNORECASE)\n",
    "    line = line.replace(\"</query>\",\"\")\n",
    "    line = line.replace(\"</i>\",\"\")\n",
    "    line = line.replace(\"</sec>\",\"\")\n",
    "    line = re.sub(r'<label1[^>]*>(.*?)</label1>', '', line, flags=re.IGNORECASE)\n",
    "    line = re.sub(r'<table-wrap[^>]*>(.*?)</table-wrap>', '', line, flags=re.IGNORECASE)\n",
    "\n",
    "    line = re.sub(\"[<][^>]+[>]\", \"\", line)\n",
    "    line = re.sub(\"&lt;\", \"<\", line)\n",
    "    line = re.sub(\"&gt;\", \">\", line)\n",
    "    line = re.sub(\"&amp;\", \"&\", line)\n",
    "\n",
    "    #Clear up for Sentance split\n",
    "    line = re.sub(\" e\\.g\\. \", \" e[dot]g[dot] \", line)\n",
    "    line = re.sub(\" i\\.e\\. \", \" i[dot]e[dot] \", line)\n",
    "    line = re.sub(\"([0-9]+)\\.([0-9]+)\", \"\\\\1[dot]\\\\2\", line)\n",
    "\n",
    "    #while search(\"(\\[del[^\\]]*\\](.*?))\\.((.*?)\\[/del\\])\", line):\n",
    "        #line = re.sub(\"(\\[del[^\\]]*\\](.*?))\\.((.*?)\\[/del\\])\", \"\\\\1[dot123]\\\\3\", line)\n",
    "    \n",
    "    #for sent in re.split('[\\.\\?\\!]', lineItem):\n",
    "    #for sent in re.split('[\\.|\\?|\\!]', lineItem):\n",
    "    for l in line.split(\"\\n\"):\n",
    "        #print('\\n---\\n' + s + '\\n---\\n')\n",
    "        for s in l.split(\".\"):\n",
    "            #print(\"\\n\\n-----------\\n\" + s + \"\\n-------------\\n\")\n",
    "            #print(str(search('\\[del\\]', sent)) + \"---\" + str(search('\\[ins\\]', sent)))\n",
    "            if (search('\\[del\\]', s) or search('\\[ins\\]', s)):\n",
    "                #print(s)\n",
    "                if len(s) <= 100:\n",
    "                    s = s.replace(\"[dot]\",\".\")\n",
    "\n",
    "                    orginalText = re.sub(\"\\[del\\]\", \"\", s)\n",
    "                    orginalText = re.sub(\"\\[/del\\]\", \"\", orginalText)\n",
    "                    orginalText = re.sub(\"\\[ins[^\\]]*\\](.*?)\\[/ins\\]\", \"\", orginalText)\n",
    "\n",
    "                    correctedText = re.sub(\"\\[ins\\]\", \"\", s)\n",
    "                    correctedText = re.sub(\"\\[/ins\\]\", \"\", correctedText)\n",
    "                    correctedText = re.sub(\"\\[del[^\\]]*\\](.*?)\\[/del\\]\", \"\", correctedText)\n",
    "\n",
    "\n",
    "                    Changes.append(orginalText.strip() +'\\t'+ correctedText.strip() + '\\t\\n')\n",
    "                    #print(orginalText +'\\t'+ correctedText + '\\t\\n')\n",
    "\n",
    "    fw = open(os.path.join('xml/collection/track.txt'), \"a\", encoding=\"utf-8\")  \n",
    "\n",
    "    fw.writelines(Changes)\n",
    "    fw.close"
   ]
  },
  {
   "cell_type": "code",
   "execution_count": null,
   "metadata": {},
   "outputs": [],
   "source": []
  },
  {
   "cell_type": "code",
   "execution_count": null,
   "metadata": {},
   "outputs": [],
   "source": []
  }
 ],
 "metadata": {
  "kernelspec": {
   "display_name": "Python 3",
   "language": "python",
   "name": "python3"
  },
  "language_info": {
   "codemirror_mode": {
    "name": "ipython",
    "version": 3
   },
   "file_extension": ".py",
   "mimetype": "text/x-python",
   "name": "python",
   "nbconvert_exporter": "python",
   "pygments_lexer": "ipython3",
   "version": "3.7.3"
  }
 },
 "nbformat": 4,
 "nbformat_minor": 2
}
