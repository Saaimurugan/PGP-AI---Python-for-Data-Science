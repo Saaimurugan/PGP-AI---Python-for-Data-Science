{
 "cells": [
  {
   "cell_type": "markdown",
   "metadata": {
    "colab_type": "text",
    "id": "448b1BQGO9Js"
   },
   "source": [
    "<b> Import the libraries </b>"
   ]
  },
  {
   "cell_type": "code",
   "execution_count": 1,
   "metadata": {
    "colab": {},
    "colab_type": "code",
    "executionInfo": {
     "elapsed": 1925,
     "status": "ok",
     "timestamp": 1594186680213,
     "user": {
      "displayName": "Pranjal Taye",
      "photoUrl": "",
      "userId": "08038041687747372073"
     },
     "user_tz": -330
    },
    "id": "VyppMsjs9iL0"
   },
   "outputs": [],
   "source": [
    "import numpy as np\n",
    "import utils\n",
    "import matplotlib.pyplot as plt\n",
    "from scipy.optimize import fmin_l_bfgs_b\n",
    "from os.path import join"
   ]
  },
  {
   "cell_type": "markdown",
   "metadata": {
    "colab_type": "text",
    "id": "0qJAz3J6Nksz"
   },
   "source": [
    "### <b> Create the class for epsilon greedy method </b>\n",
    " \n",
    "\n"
   ]
  },
  {
   "cell_type": "code",
   "execution_count": 2,
   "metadata": {
    "colab": {},
    "colab_type": "code",
    "executionInfo": {
     "elapsed": 1423,
     "status": "ok",
     "timestamp": 1594186680213,
     "user": {
      "displayName": "Pranjal Taye",
      "photoUrl": "",
      "userId": "08038041687747372073"
     },
     "user_tz": -330
    },
    "id": "No627ewvNkEQ"
   },
   "outputs": [],
   "source": [
    "class EpsilonGreedy:\n",
    "    def __init__(self, epsilon, datapath):\n",
    "        self.util = utils.Util(datapath)\n",
    "        self.epsilon = epsilon\n",
    "        self.recommended_song_ids = []\n",
    "        self.recommended_song_candidate = 0\n",
    "\n",
    "    def exploration_exploitation(self):\n",
    "        if len(self.recommended_song_ids) == 0 or self.epsilon > np.random.rand():\n",
    "            song_id = np.random.randint(self.util.get_number_of_songs())  # random choice\n",
    "        else:\n",
    "            song_id = self.recommended_song_candidate  # greedy choice\n",
    "        self.recommended_song_ids.append(song_id)\n",
    "        self.util.add_recommendation(song_id)\n",
    "        return song_id\n",
    "\n",
    "    def feedback(self, rating):\n",
    "        self.util.add_rating(rating)\n",
    "        t = self.util.get_all_times()\n",
    "        x = self.util.get_all_features()\n",
    "        theta, s = self.calculate_theta_s()\n",
    "        self.recommended_song_candidate = np.argmax(theta.T.dot(x) * (1 - np.exp(-t / s)))\n",
    "        self.calculate_cumulative_regret(theta, s) \n",
    "\n",
    "    def calculate_cumulative_regret(self, theta, s):\n",
    "        y = self.util.get_ratings()\n",
    "        t = self.util.get_history_times()\n",
    "        x = self.util.get_features_of_history()\n",
    "        y_model = theta.T.dot(x) * (1 - np.exp(-t / s))\n",
    "        print('expected rating: ', y_model[-1])\n",
    "        self.util.add_expected_rating(y_model[-1])\n",
    "        self.cumulative_regret = np.average(y - y_model)\n",
    "\n",
    "    def calculate_theta_s(self):\n",
    "        initial_values = np.zeros(self.util.get_number_of_features() + 1)\n",
    "        initial_values[-1] = 1\n",
    "        x = self.util.get_features_of_history()\n",
    "        y = self.util.get_ratings()\n",
    "        t = self.util.get_history_times()\n",
    "        position, _, _ = fmin_l_bfgs_b(self.optimization, x0=initial_values, args=(x, y, t), approx_grad=True)\n",
    "        theta = position[:-1]\n",
    "        s = position[-1]\n",
    "        return theta, s     \n",
    "\n",
    "    @staticmethod\n",
    "    def optimization(params, *args):\n",
    "        x = args[0]\n",
    "        y = args[1]\n",
    "        t = args[2]\n",
    "        theta = params[:-1]\n",
    "        s = params[-1]\n",
    "        y_model = theta.T.dot(x) * (1 - np.exp(-t / s))\n",
    "        error = y - y_model\n",
    "        return sum(error ** 2)"
   ]
  },
  {
   "cell_type": "markdown",
   "metadata": {
    "colab_type": "text",
    "id": "u04Yl5gz9uO3"
   },
   "source": [
    "### <b> Calculate the ratings </b>"
   ]
  },
  {
   "cell_type": "code",
   "execution_count": 3,
   "metadata": {
    "colab": {},
    "colab_type": "code",
    "executionInfo": {
     "elapsed": 1036,
     "status": "ok",
     "timestamp": 1594186680214,
     "user": {
      "displayName": "Pranjal Taye",
      "photoUrl": "",
      "userId": "08038041687747372073"
     },
     "user_tz": -330
    },
    "id": "y-cZfBLjoB6h"
   },
   "outputs": [],
   "source": [
    "def calculate_rating(theta, s, song_features, song_times):\n",
    "    return theta.T.dot(song_features) * (1 - np.exp(-song_times / s)) * 10"
   ]
  },
  {
   "cell_type": "markdown",
   "metadata": {
    "colab_type": "text",
    "id": "xBxOsgKf93TX"
   },
   "source": [
    "### <b> Create a simulation to test the performance of epsilon greedy algorithm </b>"
   ]
  },
  {
   "cell_type": "code",
   "execution_count": 4,
   "metadata": {
    "colab": {},
    "colab_type": "code",
    "executionInfo": {
     "elapsed": 1367,
     "status": "ok",
     "timestamp": 1594186680934,
     "user": {
      "displayName": "Pranjal Taye",
      "photoUrl": "",
      "userId": "08038041687747372073"
     },
     "user_tz": -330
    },
    "id": "xYQBD_5qnUbp"
   },
   "outputs": [],
   "source": [
    "def generate_simulation(song_names, method, theta, s, length, datapath):\n",
    "    if method == 'Random':\n",
    "        model = EpsilonGreedy(1.0, datapath) #only exploration\n",
    "    else:\n",
    "        method == 'Greedy'\n",
    "        model = EpsilonGreedy(0.2, datapath) #greedy choice\n",
    "\n",
    "    for i in range(length):\n",
    "        recommended_song = model.exploration_exploitation()\n",
    "        print(\"Recommended song: \", i, recommended_song, ' '.join(song_names.iloc[recommended_song]))\n",
    "        features, times = model.util.get_features_and_times_of_song(recommended_song)\n",
    "        rating = calculate_rating(theta, s, features, times)\n",
    "        print('Rating: ', rating)\n",
    "        model.feedback(rating)\n",
    "\n",
    "    cum_regret = model.util.get_cumulative_regret()\n",
    "    fig1 = plt.figure(1, figsize=(10, 5))\n",
    "    plt.plot(cum_regret)\n",
    "    plt.title(\"Cumulative Regret\")\n",
    "    fig1.savefig(join(method + \"_regret.png\"))\n",
    "    plt.close(fig1)\n",
    "\n",
    "    cumulative_average_rating = model.util.get_cumulative_average_rating()\n",
    "    fig2 = plt.figure(1, figsize=(10, 5))\n",
    "    plt.plot(cumulative_average_rating)\n",
    "    plt.title(\"Cumulative Average Rating\")\n",
    "    fig2.savefig(join(method + \"_rating.png\") )\n",
    "    plt.close(fig2)"
   ]
  },
  {
   "cell_type": "markdown",
   "metadata": {
    "colab_type": "text",
    "id": "CFMuJAYM-TNn"
   },
   "source": [
    "### <b> Create a function to run the simulation </b>"
   ]
  },
  {
   "cell_type": "code",
   "execution_count": 5,
   "metadata": {
    "colab": {},
    "colab_type": "code",
    "executionInfo": {
     "elapsed": 1356,
     "status": "ok",
     "timestamp": 1594186698466,
     "user": {
      "displayName": "Pranjal Taye",
      "photoUrl": "",
      "userId": "08038041687747372073"
     },
     "user_tz": -330
    },
    "id": "y7bplozVoJEi"
   },
   "outputs": [],
   "source": [
    "def run_simulation():\n",
    "    filepath = \"songs_with_features.csv\"\n",
    "    np.random.seed(12)\n",
    "    data, song_names = utils.get_data(filepath)\n",
    "    theta = np.random.random(data.shape[1])\n",
    "    s = 10\n",
    "    length = 30\n",
    "    methods = [\"Random\",\"Greedy\"] \n",
    "    for method in methods:\n",
    "        print(\"Starting simulation for model\", method)\n",
    "        print(\"======================================\")\n",
    "        generate_simulation(song_names, method, theta, s, length, filepath)\n",
    "        print(\"End of  simulation for model\", method)\n",
    "        print(\"======================================\")"
   ]
  },
  {
   "cell_type": "markdown",
   "metadata": {
    "colab_type": "text",
    "id": "nNpJLegkJCu3"
   },
   "source": [
    "### <b> Run the simulation </b>"
   ]
  },
  {
   "cell_type": "code",
   "execution_count": 6,
   "metadata": {
    "colab": {
     "base_uri": "https://localhost:8080/",
     "height": 1000
    },
    "colab_type": "code",
    "executionInfo": {
     "elapsed": 15078,
     "status": "ok",
     "timestamp": 1594186712685,
     "user": {
      "displayName": "Pranjal Taye",
      "photoUrl": "",
      "userId": "08038041687747372073"
     },
     "user_tz": -330
    },
    "id": "QXtTdlWml4Ux",
    "outputId": "5dd20ec9-a20e-4fd0-8c7c-8a52265ed026"
   },
   "outputs": [
    {
     "name": "stdout",
     "output_type": "stream",
     "text": [
      "Starting simulation for model Random\n",
      "======================================\n",
      "Recommended song:  0 6084 Thievery Corporation Retaliation Suite\n",
      "Rating:  2.8696218578097197\n",
      "expected rating:  2.8696217108670257\n",
      "Recommended song:  1 1395 Cowboy Junkies Working On A Building\n",
      "Rating:  2.5554330179869753\n",
      "expected rating:  2.5554330131800254\n",
      "Recommended song:  2 3691 Matt Costa Mr. Pitiful\n",
      "Rating:  2.7163551071549312\n",
      "expected rating:  2.7163610558175195\n",
      "Recommended song:  3 3270 Lene Marlin Another Day\n",
      "Rating:  2.2303519419278555\n",
      "expected rating:  2.2303820498821803\n",
      "Recommended song:  4 6300 Treasure Fingers Cross The Dancefloor\n",
      "Rating:  2.7467787840979687\n",
      "expected rating:  2.746753252605266\n",
      "Recommended song:  5 4451 Rosie Thomas Much Farther To Go\n",
      "Rating:  2.6878819914960217\n",
      "expected rating:  2.6876838023817586\n",
      "Recommended song:  6 4587 Seven Letters The Fit\n",
      "Rating:  3.2294783333665023\n",
      "expected rating:  3.2294883498703517\n",
      "Recommended song:  7 2153 Freda Payne Band Of Gold\n",
      "Rating:  2.231372538401835\n",
      "expected rating:  2.2315650431785525\n",
      "Recommended song:  8 160 Alela Diane Pigeon Song\n",
      "Rating:  3.167470672200963\n",
      "expected rating:  3.1674834833645185\n",
      "Recommended song:  9 1782 Devon Sproule Eloise & Alex\n",
      "Rating:  2.7730269802674323\n",
      "expected rating:  2.773113999471378\n",
      "Recommended song:  10 5211 Suzi Quatro Daytona Demon\n",
      "Rating:  2.9522395041948095\n",
      "expected rating:  2.952277875400022\n",
      "Recommended song:  11 2869 John Martyn Solid Air\n",
      "Rating:  3.0232887787447886\n",
      "expected rating:  3.0232745584764156\n",
      "Recommended song:  12 148 Alejandro Escovedo Break This Time\n",
      "Rating:  2.3358707630112328\n",
      "expected rating:  2.335934810870695\n",
      "Recommended song:  13 1239 Cherry Ghost Alfred The Great\n",
      "Rating:  2.277853852427986\n",
      "expected rating:  2.2777131218097635\n",
      "Recommended song:  14 4847 Stars Elevator Love Letter\n",
      "Rating:  2.348341514917545\n",
      "expected rating:  2.348158273959613\n",
      "Recommended song:  15 3478 Lou Rawls Tobacco Road\n",
      "Rating:  3.411581632098013\n",
      "expected rating:  3.412041211391831\n",
      "Recommended song:  16 6299 Traveling Wilburys Margarita\n",
      "Rating:  2.540914674560224\n",
      "expected rating:  2.5407765717395936\n",
      "Recommended song:  17 3320 Lighthouse Family Wish\n",
      "Rating:  2.3437550291218643\n",
      "expected rating:  2.343702732399185\n",
      "Recommended song:  18 2375 Grizzly Bear Little Brother\n",
      "Rating:  2.6498565150848146\n",
      "expected rating:  2.6499549025043763\n",
      "Recommended song:  19 5540 The Field Mice Between Hello And Goodbye\n",
      "Rating:  2.4042458543027125\n",
      "expected rating:  2.4026605034699418\n",
      "Recommended song:  20 2888 John Waite Missing You\n",
      "Rating:  2.666928212522798\n",
      "expected rating:  2.6677175401914153\n",
      "Recommended song:  21 824 Bob Marley & The Wailers Lively Up Yourself\n",
      "Rating:  3.8124816024029706\n",
      "expected rating:  3.8127021446584126\n",
      "Recommended song:  22 4892 Stars Time Can Never Kill The True Heart\n",
      "Rating:  2.4592182797576307\n",
      "expected rating:  2.4582055002228795\n",
      "Recommended song:  23 731 Bob Marley Stand Alone\n",
      "Rating:  4.012891535095156\n",
      "expected rating:  4.012265620078072\n",
      "Recommended song:  24 4189 Patti Smith Paths That Cross\n",
      "Rating:  2.420243474604762\n",
      "expected rating:  2.4200884272816987\n",
      "Recommended song:  25 2271 Gloria Gaynor I Am What I Am\n",
      "Rating:  2.3042784148949296\n",
      "expected rating:  2.3037548112597035\n",
      "Recommended song:  26 3802 Monrose Hot Summer (Radio Edit)\n",
      "Rating:  2.3541061409948933\n",
      "expected rating:  2.3543201670928195\n",
      "Recommended song:  27 2210 Gene Chandler Duke Of Earl\n",
      "Rating:  2.4672981149027997\n",
      "expected rating:  2.4675564358014426\n",
      "Recommended song:  28 6161 Third Eye Blind My Hit And Run\n",
      "Rating:  2.4935911867003737\n",
      "expected rating:  2.4934970686393148\n",
      "Recommended song:  29 1182 Casiotone For The Painfully Alone Bobby Malone Moves Home\n",
      "Rating:  2.3080698865455678\n",
      "expected rating:  2.3078309235242886\n",
      "End of  simulation for model Random\n",
      "======================================\n",
      "Starting simulation for model Greedy\n",
      "======================================\n",
      "Recommended song:  0 4678 Sirenia The Last Call\n",
      "Rating:  2.732921580793911\n",
      "expected rating:  2.7329223444782382\n",
      "Recommended song:  1 5245 Sylvain Chauveau Suber\n",
      "Rating:  10.252184568395236\n",
      "expected rating:  10.252184601108421\n",
      "Recommended song:  2 1096 Calvin Harris Love Souvenir\n",
      "Rating:  5.4879014563553605\n",
      "expected rating:  5.487904990000638\n",
      "Recommended song:  3 5245 Sylvain Chauveau Suber\n",
      "Rating:  10.252184568160489\n",
      "expected rating:  10.25218601498372\n",
      "Recommended song:  4 4414 Red House Painters Shadows\n",
      "Rating:  3.6609651994531323\n",
      "expected rating:  3.660965287062437\n",
      "Recommended song:  5 5245 Sylvain Chauveau Suber\n",
      "Rating:  10.252184547263909\n",
      "expected rating:  10.252184589460933\n",
      "Recommended song:  6 5381 The Belle Stars Iko Iko\n",
      "Rating:  2.3875231694293846\n",
      "expected rating:  2.3875386835314023\n",
      "Recommended song:  7 5245 Sylvain Chauveau Suber\n",
      "Rating:  10.252184555578438\n",
      "expected rating:  10.252183470168287\n",
      "Recommended song:  8 5245 Sylvain Chauveau Suber\n",
      "Rating:  10.252176854669004\n",
      "expected rating:  10.25218327510168\n",
      "Recommended song:  9 2882 Johnny Nash Stir It Up\n",
      "Rating:  3.2014296063175642\n",
      "expected rating:  3.2014297037641404\n",
      "Recommended song:  10 5245 Sylvain Chauveau Suber\n",
      "Rating:  10.252184566053819\n",
      "expected rating:  10.252177152810438\n",
      "Recommended song:  11 3769 Mindy Smith Train Song\n",
      "Rating:  2.8344220157808735\n",
      "expected rating:  2.8344256603346594\n",
      "Recommended song:  12 464 Behemoth Ceremony Of Shiva\n",
      "Rating:  2.2797287928726586\n",
      "expected rating:  2.279531047225409\n",
      "Recommended song:  13 5245 Sylvain Chauveau Suber\n",
      "Rating:  10.252184568395236\n",
      "expected rating:  10.252172174843512\n",
      "Recommended song:  14 5245 Sylvain Chauveau Suber\n",
      "Rating:  10.252184568371703\n",
      "expected rating:  10.252175513922083\n",
      "Recommended song:  15 5245 Sylvain Chauveau Suber\n",
      "Rating:  10.252184568395236\n",
      "expected rating:  10.252180968422882\n",
      "Recommended song:  16 5245 Sylvain Chauveau Suber\n",
      "Rating:  10.25218456580757\n",
      "expected rating:  10.25217836688175\n",
      "Recommended song:  17 5245 Sylvain Chauveau Suber\n",
      "Rating:  10.252184568395236\n",
      "expected rating:  10.252181439907451\n",
      "Recommended song:  18 5245 Sylvain Chauveau Suber\n",
      "Rating:  10.252184568395236\n",
      "expected rating:  10.25217955723404\n",
      "Recommended song:  19 5245 Sylvain Chauveau Suber\n",
      "Rating:  10.252184568395236\n",
      "expected rating:  10.2521776831844\n",
      "Recommended song:  20 5245 Sylvain Chauveau Suber\n",
      "Rating:  10.252184568395165\n",
      "expected rating:  10.252180796728702\n",
      "Recommended song:  21 946 Boys Noize Kill The Kid\n",
      "Rating:  4.224543789947153\n",
      "expected rating:  4.224581710331535\n",
      "Recommended song:  22 5245 Sylvain Chauveau Suber\n",
      "Rating:  10.252184568395236\n",
      "expected rating:  10.25218280746932\n",
      "Recommended song:  23 5245 Sylvain Chauveau Suber\n",
      "Rating:  10.252184568393654\n",
      "expected rating:  10.252182657869295\n",
      "Recommended song:  24 5245 Sylvain Chauveau Suber\n",
      "Rating:  10.25218456839471\n",
      "expected rating:  10.252188117025456\n",
      "Recommended song:  25 5245 Sylvain Chauveau Suber\n",
      "Rating:  10.252184568395236\n",
      "expected rating:  10.252181687058076\n",
      "Recommended song:  26 5245 Sylvain Chauveau Suber\n",
      "Rating:  10.252165595690197\n",
      "expected rating:  10.252181521256942\n",
      "Recommended song:  27 5245 Sylvain Chauveau Suber\n",
      "Rating:  10.252184568395236\n",
      "expected rating:  10.252181284824406\n",
      "Recommended song:  28 1624 Dayglo Abortions W.A.S.P.\n",
      "Rating:  2.0214539839340455\n",
      "expected rating:  2.022081859192687\n",
      "Recommended song:  29 5245 Sylvain Chauveau Suber\n",
      "Rating:  10.252184568395236\n",
      "expected rating:  10.252181969049932\n",
      "End of  simulation for model Greedy\n",
      "======================================\n"
     ]
    }
   ],
   "source": [
    "run_simulation()"
   ]
  },
  {
   "cell_type": "code",
   "execution_count": null,
   "metadata": {
    "colab": {},
    "colab_type": "code",
    "id": "7n7zskSP5vuK"
   },
   "outputs": [],
   "source": []
  }
 ],
 "metadata": {
  "colab": {
   "collapsed_sections": [],
   "name": "CEP-1.ipynb",
   "provenance": []
  },
  "kernelspec": {
   "display_name": "Python 3",
   "language": "python",
   "name": "python3"
  },
  "language_info": {
   "codemirror_mode": {
    "name": "ipython",
    "version": 3
   },
   "file_extension": ".py",
   "mimetype": "text/x-python",
   "name": "python",
   "nbconvert_exporter": "python",
   "pygments_lexer": "ipython3",
   "version": "3.8.3"
  }
 },
 "nbformat": 4,
 "nbformat_minor": 1
}
