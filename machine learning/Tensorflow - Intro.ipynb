{
 "cells": [
  {
   "cell_type": "markdown",
   "metadata": {
    "toc": true
   },
   "source": [
    "<h1>Table of Contents<span class=\"tocSkip\"></span></h1>\n",
    "<div class=\"toc\" style=\"margin-top: 1em;\"><ul class=\"toc-item\"><li><span><a href=\"#Intro\" data-toc-modified-id=\"Intro-1\"><span class=\"toc-item-num\">1&nbsp;&nbsp;</span>Intro</a></span></li><li><span><a href=\"#Core-(Low-Level-APIs)\" data-toc-modified-id=\"Core-(Low-Level-APIs)-2\"><span class=\"toc-item-num\">2&nbsp;&nbsp;</span>Core (Low Level APIs)</a></span></li><li><span><a href=\"#Eager-Execution\" data-toc-modified-id=\"Eager-Execution-3\"><span class=\"toc-item-num\">3&nbsp;&nbsp;</span>Eager Execution</a></span></li><li><span><a href=\"#Dataset-API\" data-toc-modified-id=\"Dataset-API-4\"><span class=\"toc-item-num\">4&nbsp;&nbsp;</span>Dataset API</a></span></li><li><span><a href=\"#Save-and-Restore-Variables\" data-toc-modified-id=\"Save-and-Restore-Variables-5\"><span class=\"toc-item-num\">5&nbsp;&nbsp;</span><a href=\"https://www.tensorflow.org/programmers_guide/saved_model\" target=\"_blank\">Save and Restore Variables</a></a></span></li><li><span><a href=\"#Save-and-Restore-a-Model\" data-toc-modified-id=\"Save-and-Restore-a-Model-6\"><span class=\"toc-item-num\">6&nbsp;&nbsp;</span><a href=\"https://www.tensorflow.org/programmers_guide/saved_model\" target=\"_blank\">Save and Restore a Model</a></a></span></li><li><span><a href=\"#Serving-Client\" data-toc-modified-id=\"Serving-Client-7\"><span class=\"toc-item-num\">7&nbsp;&nbsp;</span>Serving Client</a></span></li></ul></div>"
   ]
  },
  {
   "cell_type": "markdown",
   "metadata": {},
   "source": [
    "# Intro"
   ]
  },
  {
   "cell_type": "markdown",
   "metadata": {
    "ExecuteTime": {
     "end_time": "2017-09-15T15:58:13.785614",
     "start_time": "2017-09-15T15:58:13.778613"
    }
   },
   "source": [
    "Notebook revolving around the use and concepts of [Tensorflow](https://www.tensorflow.org/) (v1.12.0)."
   ]
  },
  {
   "cell_type": "code",
   "execution_count": 1,
   "metadata": {},
   "outputs": [],
   "source": [
    "import os\n",
    "import sys\n",
    "import numpy as np\n",
    "import pandas as pd\n",
    "from matplotlib import pyplot as plt\n",
    "from pathlib import Path\n",
    "\n",
    "import tensorflow as tf\n",
    "\n",
    "%matplotlib notebook\n",
    "#%matplotlib inline\n",
    "\n",
    "models_data_folder = Path.home() / \"Documents/models/\""
   ]
  },
  {
   "cell_type": "markdown",
   "metadata": {},
   "source": [
    "# Core (Low Level APIs)"
   ]
  },
  {
   "cell_type": "markdown",
   "metadata": {},
   "source": [
    "Tensorflow operations are arranged into a computational graph. `graph` is about building, `session` is about running.\n",
    "The graph nodes are represented by `Operation` while the edges can be see as `Tensor` flowing between the nodes. A `Tensor` does not have values, is just a handler returned by a function."
   ]
  },
  {
   "cell_type": "code",
   "execution_count": 5,
   "metadata": {},
   "outputs": [
    {
     "name": "stdout",
     "output_type": "stream",
     "text": [
      "Tensor(\"Const_4:0\", shape=(), dtype=float32)\n",
      "Tensor(\"Const_5:0\", shape=(), dtype=float32)\n",
      "Tensor(\"add_2:0\", shape=(), dtype=float32)\n"
     ]
    }
   ],
   "source": [
    "# create and add up two constants\n",
    "a = tf.constant(3.0, dtype=tf.float32)\n",
    "b = tf.constant(4.0)\n",
    "total = a + b \n",
    "print(a)\n",
    "print(b)\n",
    "print(total)"
   ]
  },
  {
   "cell_type": "code",
   "execution_count": 9,
   "metadata": {},
   "outputs": [
    {
     "name": "stdout",
     "output_type": "stream",
     "text": [
      "7.0\n",
      "{'ab': (3.0, 4.0), 'total': 7.0}\n"
     ]
    }
   ],
   "source": [
    "# execute graph via a Session\n",
    "sess = tf.Session()\n",
    "print(sess.run(total))\n",
    "print(sess.run({'ab': (a, b), 'total': total})) # request multiple tensors"
   ]
  },
  {
   "cell_type": "code",
   "execution_count": 19,
   "metadata": {},
   "outputs": [
    {
     "name": "stdout",
     "output_type": "stream",
     "text": [
      "7.0\n"
     ]
    }
   ],
   "source": [
    "# variables\n",
    "x = tf.placeholder(tf.float32, name='x')\n",
    "y = tf.placeholder(tf.float32, name='y')\n",
    "z = x + y\n",
    "\n",
    "sess = tf.Session()\n",
    "print(sess.run(z, feed_dict={x: 3, y: 4}))"
   ]
  },
  {
   "cell_type": "markdown",
   "metadata": {},
   "source": [
    "# Eager Execution"
   ]
  },
  {
   "cell_type": "markdown",
   "metadata": {},
   "source": [
    "Present from Tensorflow v1.7, provides a imperative programming env that allows to evaluate operations immediately. In this env a ``Tensor`` object actually reference concrete values that can be used in other Python contexts like debugger or Numpy."
   ]
  },
  {
   "cell_type": "code",
   "execution_count": 2,
   "metadata": {},
   "outputs": [],
   "source": [
    "tf.enable_eager_execution() # enable eager mode, need to be run at start"
   ]
  },
  {
   "cell_type": "code",
   "execution_count": 9,
   "metadata": {},
   "outputs": [
    {
     "data": {
      "text/plain": [
       "<tf.Tensor: id=18, shape=(), dtype=float32, numpy=12.0>"
      ]
     },
     "execution_count": 9,
     "metadata": {},
     "output_type": "execute_result"
    }
   ],
   "source": [
    "a = 3.0\n",
    "b = 4.0\n",
    "res = tf.multiply(a, b)\n",
    "res"
   ]
  },
  {
   "cell_type": "code",
   "execution_count": 8,
   "metadata": {},
   "outputs": [
    {
     "data": {
      "text/plain": [
       "144.0"
      ]
     },
     "execution_count": 8,
     "metadata": {},
     "output_type": "execute_result"
    }
   ],
   "source": [
    "np.multiply(res, res)"
   ]
  },
  {
   "cell_type": "markdown",
   "metadata": {},
   "source": [
    "# Dataset API\n",
    "`tf.data` as a mean to build input/pre-processing pipelines. Introduces the `Dataset` (sequence of elements) and `Iterator` (access elements from a dataset) abstractions.\n",
    "\n",
    "In *eager* mode can iterate over a dataset as done in common Python code. In a session need instead to instantiate/initialize an iterator over the dataset."
   ]
  },
  {
   "cell_type": "code",
   "execution_count": 2,
   "metadata": {},
   "outputs": [],
   "source": [
    "tf.enable_eager_execution() # enable eager mode, need to be run at start"
   ]
  },
  {
   "cell_type": "code",
   "execution_count": 4,
   "metadata": {},
   "outputs": [
    {
     "name": "stdout",
     "output_type": "stream",
     "text": [
      "<dtype: 'int64'>\n",
      "()\n"
     ]
    }
   ],
   "source": [
    "dataset = tf.data.Dataset.range(10)\n",
    "print(dataset.output_types)\n",
    "print(dataset.output_shapes)"
   ]
  },
  {
   "cell_type": "code",
   "execution_count": 8,
   "metadata": {},
   "outputs": [
    {
     "name": "stdout",
     "output_type": "stream",
     "text": [
      "tf.Tensor(2, shape=(), dtype=int64)\n",
      "tf.Tensor(3, shape=(), dtype=int64)\n",
      "tf.Tensor(4, shape=(), dtype=int64)\n",
      "tf.Tensor(5, shape=(), dtype=int64)\n",
      "tf.Tensor(6, shape=(), dtype=int64)\n",
      "tf.Tensor(7, shape=(), dtype=int64)\n",
      "tf.Tensor(8, shape=(), dtype=int64)\n",
      "tf.Tensor(9, shape=(), dtype=int64)\n",
      "tf.Tensor(10, shape=(), dtype=int64)\n",
      "tf.Tensor(11, shape=(), dtype=int64)\n"
     ]
    }
   ],
   "source": [
    "# apply custom function to each element of the dataset\n",
    "dataset = dataset.map(lambda x : x + 1)\n",
    "for i in dataset:\n",
    "    print(i)"
   ]
  },
  {
   "cell_type": "code",
   "execution_count": 18,
   "metadata": {},
   "outputs": [],
   "source": [
    "# define repeatition, batching and buffers\n",
    "dataset = tf.data.Dataset.range(10)\n",
    "dataset = dataset.repeat(2)\n",
    "dataset = dataset.batch(2)\n",
    "iterator = dataset.make_one_shot_iterator()"
   ]
  },
  {
   "cell_type": "code",
   "execution_count": 19,
   "metadata": {},
   "outputs": [
    {
     "name": "stdout",
     "output_type": "stream",
     "text": [
      "tf.Tensor([0 1], shape=(2,), dtype=int64)\n",
      "tf.Tensor([2 3], shape=(2,), dtype=int64)\n",
      "tf.Tensor([4 5], shape=(2,), dtype=int64)\n",
      "tf.Tensor([6 7], shape=(2,), dtype=int64)\n",
      "tf.Tensor([8 9], shape=(2,), dtype=int64)\n",
      "tf.Tensor([0 1], shape=(2,), dtype=int64)\n",
      "tf.Tensor([2 3], shape=(2,), dtype=int64)\n",
      "tf.Tensor([4 5], shape=(2,), dtype=int64)\n",
      "tf.Tensor([6 7], shape=(2,), dtype=int64)\n",
      "tf.Tensor([8 9], shape=(2,), dtype=int64)\n"
     ]
    }
   ],
   "source": [
    "for i in iterator:\n",
    "    print(i)"
   ]
  },
  {
   "cell_type": "markdown",
   "metadata": {},
   "source": [
    "# [Save and Restore Variables](https://www.tensorflow.org/programmers_guide/saved_model)"
   ]
  },
  {
   "cell_type": "code",
   "execution_count": null,
   "metadata": {
    "collapsed": true
   },
   "outputs": [],
   "source": [
    "# dummy variables\n",
    "#v1 = tf.get_variable(\"v1\", shape=[3], initializer=tf.zeros_initializer)\n",
    "#v2 = tf.get_variablea(\"v2\", shape=[5], initializer=tf.zeros_initializer)\n",
    "v1 = tf.Variable(tf.constant(0), name='v1')\n",
    "v2 = tf.Variable(tf.constant(5), name='v2')\n",
    "\n",
    "# dummy operations\n",
    "inc_v1 = v1.assign(v1+1)\n",
    "dec_v2 = v2.assign(v2-1)"
   ]
  },
  {
   "cell_type": "code",
   "execution_count": null,
   "metadata": {
    "collapsed": true
   },
   "outputs": [],
   "source": [
    "# Save variables\n",
    "\n",
    "# def init op and saver\n",
    "init_op = tf.global_variables_initializer()\n",
    "saver = tf.train.Saver()\n",
    "\n",
    "# run some operations and save sessions\n",
    "with tf.Session() as sess:\n",
    "    sess.run(init_op)\n",
    "    inc_v1.op.run()\n",
    "    dec_v2.op.run()\n",
    "    \n",
    "    save_path = saver.save(sess,\n",
    "                str(models_data_folder / 'tmp' / \"model.ckpt\"))\n",
    "    print(\"Model saved in {}\".format(save_path))"
   ]
  },
  {
   "cell_type": "code",
   "execution_count": null,
   "metadata": {
    "collapsed": true
   },
   "outputs": [],
   "source": [
    "# test behavior in new session (need to rerun initializer)\n",
    "with tf.Session() as sess:\n",
    "    sess.run(init_op)\n",
    "    print(v1.eval())\n",
    "    print(inc_v1.eval())\n",
    "    print(v1.eval())"
   ]
  },
  {
   "cell_type": "code",
   "execution_count": null,
   "metadata": {
    "collapsed": true
   },
   "outputs": [],
   "source": [
    "# Restore Variables\n",
    "\n",
    "# need to redefine the variable\n",
    "v1 = tf.Variable(tf.constant(0), name='v1')\n",
    "\n",
    "saver = tf.train.Saver()\n",
    "\n",
    "with tf.Session() as sess:\n",
    "    saver.restore(sess,\n",
    "                 str(models_data_folder / 'tmp' / \"model.ckpt\"))\n",
    "    \n",
    "    #now v1 should have the value we previously saved\n",
    "    print(v1.eval())"
   ]
  },
  {
   "cell_type": "markdown",
   "metadata": {},
   "source": [
    "# [Save and Restore a Model](https://www.tensorflow.org/programmers_guide/saved_model)\n",
    "Uses *SavedModelBuilder* instead of *Saver*. Should this be done only for serving? In what way can I reload a model saved with the former and retrain?"
   ]
  },
  {
   "cell_type": "code",
   "execution_count": null,
   "metadata": {
    "collapsed": true
   },
   "outputs": [],
   "source": [
    "# directory where model will be exported\n",
    "# include version info in model path as required by TF\n",
    "version = 0\n",
    "export_dir = str(models_data_folder / \"tf_test_models_export\" / str(version))"
   ]
  },
  {
   "cell_type": "code",
   "execution_count": null,
   "metadata": {
    "collapsed": true
   },
   "outputs": [],
   "source": [
    "# dummy model\n",
    "x = tf.Variable(tf.constant(0), name='x')\n",
    "y = tf.Variable(tf.constant(5), name='y')\n",
    "f = tf.multiply(x, y, name='f')"
   ]
  },
  {
   "cell_type": "code",
   "execution_count": null,
   "metadata": {
    "collapsed": true
   },
   "outputs": [],
   "source": [
    "# save model\n",
    "with tf.Session() as sess:\n",
    "    sess.run(tf.global_variables_initializer())\n",
    "    #consider difference between eval and run\n",
    "    #see: https://stackoverflow.com/questions/33610685/in-tensorflow-what-is-the-difference-between-session-run-and-tensor-eval\n",
    "    #sess.run(f, feed_dict={x:3.0, y:5.0})\n",
    "    \n",
    "    fval = f.eval(feed_dict={x:3.0, y:5.0})\n",
    "    print(fval)\n",
    "    \n",
    "    # Init builder\n",
    "    builder = tf.saved_model.builder.SavedModelBuilder(export_dir)\n",
    "    \n",
    "    # Build info for inputs and outputs tensors\n",
    "    #??Is the key associated with the tensor name?\n",
    "    inputs = {\n",
    "        'x' : tf.saved_model.utils.build_tensor_info(x),\n",
    "        'y' : tf.saved_model.utils.build_tensor_info(y)\n",
    "    }\n",
    "    \n",
    "    outputs = {\n",
    "        'f' : tf.saved_model.utils.build_tensor_info(f)\n",
    "    }\n",
    "    \n",
    "    # Define signature (set of inputs and outputs for the graph)\n",
    "    prediction_signature = (\n",
    "        tf.saved_model.signature_def_utils.build_signature_def(\n",
    "            inputs=inputs,\n",
    "            outputs=outputs,\n",
    "            # method used for the inference\n",
    "            method_name=tf.saved_model.signature_constants.PREDICT_METHOD_NAME\n",
    "        )\n",
    "    )\n",
    "    \n",
    "    # Add meta-graph (dataflow graph, variables, assets, and signatures) \n",
    "    # to the builder\n",
    "    builder.add_meta_graph_and_variables(\n",
    "        sess=sess,\n",
    "        tags=[tf.saved_model.tag_constants.SERVING],\n",
    "        # ??\n",
    "        signature_def_map={\n",
    "            'predict' : prediction_signature\n",
    "        },\n",
    "        # ??\n",
    "        #legacy_init_op = tf.group(tf.tables_initializer(), name='legacy_init_op')\n",
    "    )\n",
    "    \n",
    "    # Finally save builder\n",
    "    builder.save()\n",
    "    "
   ]
  },
  {
   "cell_type": "code",
   "execution_count": null,
   "metadata": {
    "collapsed": true
   },
   "outputs": [],
   "source": [
    "# Restore model\n",
    "\n",
    "# redefine target\n",
    "x = tf.Variable(tf.constant(1), name='x')\n",
    "y = tf.Variable(tf.constant(5), name='y')\n",
    "#f = tf.Operation(None, name='f')\n",
    "\n",
    "with tf.Session() as sess:\n",
    "    sess.run(tf.global_variables_initializer())\n",
    "    \n",
    "    #print(f.eval())\n",
    "    \n",
    "    mg = tf.saved_model.loader.load(\n",
    "        sess=sess, \n",
    "        tags=[tf.saved_model.tag_constants.SERVING],\n",
    "        export_dir\n",
    "    )\n",
    "    f = tf.get_default_graph().get_operation_by_name(\"f\")\n",
    "    \n",
    "    # ??Why session graph keeps getting new operations?\n",
    "    # isn't it clean every time we exit the \"with\" scope\n",
    "    #print(sess.graph.get_operations())\n",
    "    \n",
    "    print(sess.run(f))"
   ]
  },
  {
   "cell_type": "markdown",
   "metadata": {},
   "source": [
    "# Serving Client\n",
    "Needs\n",
    "\n",
    "    pip install grpcio grpcio-tools\n",
    "    \n",
    "Plus Tensorflow Serving API files."
   ]
  },
  {
   "cell_type": "code",
   "execution_count": null,
   "metadata": {
    "collapsed": true
   },
   "outputs": [],
   "source": [
    "from grpc.beta import implementations\n",
    "\n",
    "# reference local copy of Tensorflow Serving API Files\n",
    "sys.path.append(str(os.getcwd() / *[os.pardir]*2 / 'ext_libs'))\n",
    "import lib.predict_pb2 as predict_pb2\n",
    "import lib.prediction_service_pb2 as prediction_service_pb2"
   ]
  },
  {
   "cell_type": "code",
   "execution_count": null,
   "metadata": {
    "collapsed": true
   },
   "outputs": [],
   "source": [
    "host='127.0.0.1'\n",
    "port=9000\n",
    "channel = implementations.insecure_channel(host, int(port))\n",
    "stub = prediction_service_pb2.beta_create_PredictionService_stub(channel)\n",
    "\n",
    "# build request\n",
    "request = predict_pb2.PredictRequest()\n",
    "request.model_spec.name = 'ed' # model name, as given to bazel script\n",
    "request.model_spec.signature_name = 'predict' # as defined in ModelBuilder\n",
    "\n",
    "# define inputs\n",
    "x = 3\n",
    "y = 4\n",
    "x_tensor = tf.contrib.util.make_tensor_proto(x, dtype=tf.int32)\n",
    "y_tensor = tf.contrib.util.make_tensor_proto(y, dtype=tf.int32)\n",
    "request.inputs['x'].CopyFrom(x_tensor)\n",
    "request.inputs['y'].CopyFrom(y_tensor)\n",
    "\n",
    "# call prediction on the server\n",
    "result = stub.Predict(request, timeout=10.0)"
   ]
  },
  {
   "cell_type": "code",
   "execution_count": null,
   "metadata": {
    "collapsed": true
   },
   "outputs": [],
   "source": [
    "result"
   ]
  }
 ],
 "metadata": {
  "kernelspec": {
   "display_name": "Python [conda env:tf_2]",
   "language": "python",
   "name": "conda-env-tf_2-py"
  },
  "language_info": {
   "codemirror_mode": {
    "name": "ipython",
    "version": 3
   },
   "file_extension": ".py",
   "mimetype": "text/x-python",
   "name": "python",
   "nbconvert_exporter": "python",
   "pygments_lexer": "ipython3",
   "version": "3.6.8"
  },
  "toc": {
   "nav_menu": {
    "height": "52px",
    "width": "254px"
   },
   "number_sections": true,
   "sideBar": true,
   "skip_h1_title": false,
   "toc_cell": true,
   "toc_position": {
    "height": "689px",
    "left": "0px",
    "right": "1213px",
    "top": "107px",
    "width": "212px"
   },
   "toc_section_display": "block",
   "toc_window_display": true
  }
 },
 "nbformat": 4,
 "nbformat_minor": 2
}
