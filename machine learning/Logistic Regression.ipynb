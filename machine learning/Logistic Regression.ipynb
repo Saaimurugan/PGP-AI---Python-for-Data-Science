{
 "cells": [
  {
   "cell_type": "markdown",
   "metadata": {},
   "source": [
    "# Table of Contents\n",
    "* [Intro](#Intro)\n",
    "\t* [Logistic Regression](#Logistic-Regression)\n",
    "\t* [From Linear to Logistic Regression](#From-Linear-to-Logistic-Regression)\n",
    "\t* [Logistic Function](#Logistic-Function)\n",
    "* [Decision Boundary [TOFIX]](#Decision-Boundary-[TOFIX])\n",
    "* [Simulate Data](#Simulate-Data)\n",
    "* [Logistic Regression (Sklearn)](#Logistic-Regression-%28Sklearn%29)\n",
    "* [Gradient Descent](#Gradient-Descent)\n",
    "\t* [Training Animation](#Training-Animation)\n"
   ]
  },
  {
   "cell_type": "markdown",
   "metadata": {},
   "source": [
    "# Intro"
   ]
  },
  {
   "cell_type": "markdown",
   "metadata": {},
   "source": [
    "Exploratory notebook related to basic concepts and theory behind logistic regression. Includes toy examples implementation and relative visualization."
   ]
  },
  {
   "cell_type": "markdown",
   "metadata": {},
   "source": [
    "## Logistic Regression"
   ]
  },
  {
   "cell_type": "markdown",
   "metadata": {},
   "source": [
    "Contrary from what the name suggests, logistic regression solves Classification type of problems. It moves away from regression to overcome linearity limitations in the context of classification, and adopts the logistic function for hypothesis building."
   ]
  },
  {
   "cell_type": "code",
   "execution_count": 59,
   "metadata": {
    "ExecuteTime": {
     "end_time": "2017-08-02T13:38:31.706870",
     "start_time": "2017-08-02T13:38:31.293846"
    },
    "collapsed": false
   },
   "outputs": [],
   "source": [
    "%matplotlib notebook\n",
    "\n",
    "import numpy as np\n",
    "import pandas as pd\n",
    "import seaborn as sns\n",
    "from sklearn import linear_model, datasets\n",
    "from matplotlib import pyplot as plt, animation\n",
    "\n",
    "sns.set_context(\"paper\")"
   ]
  },
  {
   "cell_type": "markdown",
   "metadata": {},
   "source": [
    "## From Linear to Logistic Regression"
   ]
  },
  {
   "cell_type": "markdown",
   "metadata": {},
   "source": [
    "Demonstrate the rationale behind the move from linear to logistic regression using reproduced examples from [Coursera course](https://www.coursera.org/learn/machine-learning). Consider again the statements \"classification is not a linear function\".\n",
    "\n",
    "We can clearly see how outliers can easily demonstrate the non feasibility of regression of classification problems."
   ]
  },
  {
   "cell_type": "code",
   "execution_count": 2,
   "metadata": {
    "ExecuteTime": {
     "end_time": "2017-08-02T12:52:14.965049",
     "start_time": "2017-08-02T12:52:14.956049"
    },
    "collapsed": true
   },
   "outputs": [],
   "source": [
    "# Tumor data\n",
    "x = np.arange(10)\n",
    "y = np.array([0]*5 + [1]*5)"
   ]
  },
  {
   "cell_type": "code",
   "execution_count": 3,
   "metadata": {
    "ExecuteTime": {
     "end_time": "2017-08-02T12:52:25.202635",
     "start_time": "2017-08-02T12:52:25.003624"
    },
    "collapsed": false
   },
   "outputs": [
    {
     "name": "stdout",
     "output_type": "stream",
     "text": [
      "Slope = 0.152 (r = 0.870, p = 0.00105)\n"
     ]
    },
    {
     "data": {
      "text/plain": [
       "<IPython.core.display.Javascript object>"
      ]
     },
     "metadata": {},
     "output_type": "display_data"
    },
    {
     "data": {
      "text/html": [
       "<img src=\"data:image/png;base64,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\">"
      ],
      "text/plain": [
       "<IPython.core.display.HTML object>"
      ]
     },
     "metadata": {},
     "output_type": "execute_result"
    }
   ],
   "source": [
    "# Plot separation when \"clean\" data\n",
    "from scipy import stats\n",
    "\n",
    "slope, intercept, r, p, _ = stats.linregress(x, y)\n",
    "print('Slope = {:.3f} (r = {:.3f}, p = {:.5f})'.format(slope, r, p))\n",
    "\n",
    "ax = sns.regplot(x, y)\n",
    "x_intersect = (0.5 - intercept)/slope\n",
    "ax.plot([x_intersect, x_intersect], [-1,2], 'k-')\n",
    "sns.plt.show()"
   ]
  },
  {
   "cell_type": "code",
   "execution_count": 4,
   "metadata": {
    "ExecuteTime": {
     "end_time": "2017-08-02T12:52:33.791126",
     "start_time": "2017-08-02T12:52:33.610116"
    },
    "collapsed": false
   },
   "outputs": [
    {
     "name": "stdout",
     "output_type": "stream",
     "text": [
      "Slope = 0.047 (r = 0.613, p = 0.04494)\n"
     ]
    },
    {
     "data": {
      "text/plain": [
       "<IPython.core.display.Javascript object>"
      ]
     },
     "metadata": {},
     "output_type": "display_data"
    },
    {
     "data": {
      "text/html": [
       "<img src=\"data:image/png;base64,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\">"
      ],
      "text/plain": [
       "<IPython.core.display.HTML object>"
      ]
     },
     "metadata": {},
     "output_type": "execute_result"
    }
   ],
   "source": [
    "# Plot sepration when outlier\n",
    "x = np.append(x, [25])\n",
    "y = np.append(y, [1])\n",
    "slope, intercept, r, p, _ = stats.linregress(x, y)\n",
    "print('Slope = {:.3f} (r = {:.3f}, p = {:.5f})'.format(slope, r, p))\n",
    "\n",
    "ax = sns.regplot(x, y)\n",
    "x_intersect = (0.5 - intercept)/slope\n",
    "ax.plot([x_intersect, x_intersect], [-1,2], 'k-')\n",
    "sns.plt.show()"
   ]
  },
  {
   "cell_type": "markdown",
   "metadata": {},
   "source": [
    "## Logistic Function"
   ]
  },
  {
   "cell_type": "markdown",
   "metadata": {},
   "source": [
    "The hypothesis function associated with the Logistic Regression model. \n",
    "\n",
    "$$\\frac{1}{1+e^{-x}}$$\n",
    "\n",
    "A sigmoid function is a function characterized by an S shaped curve. Logistic function is a special case of sigmoid function, but often the two terms are used interchangeably.\n",
    "\n",
    "Statistical approaches tend to mention the logit function (inverse of the sigmoid one) and the concept of odds. [Great article about the connection of the two interpretations](https://sebastianraschka.com/faq/docs/logistic-why-sigmoid.html)"
   ]
  },
  {
   "cell_type": "code",
   "execution_count": 18,
   "metadata": {
    "ExecuteTime": {
     "end_time": "2017-08-02T13:10:31.648776",
     "start_time": "2017-08-02T13:10:31.511768"
    },
    "collapsed": false
   },
   "outputs": [
    {
     "data": {
      "text/plain": [
       "<IPython.core.display.Javascript object>"
      ]
     },
     "metadata": {},
     "output_type": "display_data"
    },
    {
     "data": {
      "text/html": [
       "<img src=\"data:image/png;base64,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\">"
      ],
      "text/plain": [
       "<IPython.core.display.HTML object>"
      ]
     },
     "metadata": {},
     "output_type": "execute_result"
    }
   ],
   "source": [
    "# Exponential\n",
    "x = np.linspace(-2, 5, 100)\n",
    "y = np.exp(-x)\n",
    "\n",
    "ax = plt.plot(x, y)\n",
    "plt.show()"
   ]
  },
  {
   "cell_type": "code",
   "execution_count": 19,
   "metadata": {
    "ExecuteTime": {
     "end_time": "2017-08-02T13:10:37.732124",
     "start_time": "2017-08-02T13:10:37.685121"
    },
    "collapsed": false
   },
   "outputs": [
    {
     "data": {
      "text/plain": [
       "<IPython.core.display.Javascript object>"
      ]
     },
     "metadata": {},
     "output_type": "display_data"
    },
    {
     "data": {
      "text/html": [
       "<img src=\"data:image/png;base64,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\">"
      ],
      "text/plain": [
       "<IPython.core.display.HTML object>"
      ]
     },
     "metadata": {},
     "output_type": "execute_result"
    }
   ],
   "source": [
    "# Sigmoid \n",
    "x = np.linspace(-10, 10, 100)\n",
    "y = 1/(1 + np.exp(-x))\n",
    "\n",
    "ax = plt.plot(x, y)\n",
    "plt.show()"
   ]
  },
  {
   "cell_type": "markdown",
   "metadata": {},
   "source": [
    "# Decision Boundary [TOFIX]"
   ]
  },
  {
   "cell_type": "code",
   "execution_count": 44,
   "metadata": {
    "collapsed": false
   },
   "outputs": [],
   "source": [
    "h_0 = lambda x : t_0 + (t_1 * x[0]) + (t_2 * x[1])"
   ]
  },
  {
   "cell_type": "code",
   "execution_count": 46,
   "metadata": {
    "collapsed": false
   },
   "outputs": [
    {
     "data": {
      "text/plain": [
       "<IPython.core.display.Javascript object>"
      ]
     },
     "metadata": {},
     "output_type": "display_data"
    },
    {
     "data": {
      "text/html": [
       "<img src=\"data:image/png;base64,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\">"
      ],
      "text/plain": [
       "<IPython.core.display.HTML object>"
      ]
     },
     "metadata": {},
     "output_type": "execute_result"
    }
   ],
   "source": [
    "t_0 = -3\n",
    "t_1 = 1\n",
    "t_2 = 1\n",
    "x_1 = np.arange(5)\n",
    "x_2 = np.arange(5)\n",
    "res = np.dstack(np.meshgrid(x_1, x_2)).reshape(-1, 2)\n",
    "s_1 = filter(lambda x : h_0((x[0],x[1]))>=0, res)\n",
    "s_2 = filter(lambda x : h_0((x[0],x[1]))<0, res)\n",
    "\n",
    "m = ['+','o']\n",
    "for i, s in enumerate([s_1, s_2]):\n",
    "    x_1, x_2 = list(map(np.array, zip(*s)))\n",
    "    sns.regplot(x_1, x_2, fit_reg=False, marker=m[i])\n",
    "    sns.plt.show()"
   ]
  },
  {
   "cell_type": "markdown",
   "metadata": {},
   "source": [
    "# Simulate Data"
   ]
  },
  {
   "cell_type": "code",
   "execution_count": 82,
   "metadata": {
    "ExecuteTime": {
     "end_time": "2017-08-02T13:57:34.223218",
     "start_time": "2017-08-02T13:57:34.211217"
    },
    "collapsed": false
   },
   "outputs": [],
   "source": [
    "iris = datasets.load_iris()\n",
    "X = iris.data[:, :2]  # we only take the first two features.\n",
    "Y = iris.target\n",
    "# Replace label 2 with value 1, so we have only two classes to predict\n",
    "np.place(Y, Y==2, 1)"
   ]
  },
  {
   "cell_type": "code",
   "execution_count": 83,
   "metadata": {
    "ExecuteTime": {
     "end_time": "2017-08-02T13:57:35.120269",
     "start_time": "2017-08-02T13:57:35.089268"
    },
    "collapsed": false,
    "scrolled": true
   },
   "outputs": [
    {
     "data": {
      "text/html": [
       "<div>\n",
       "<table border=\"1\" class=\"dataframe\">\n",
       "  <thead>\n",
       "    <tr style=\"text-align: right;\">\n",
       "      <th></th>\n",
       "      <th>feat_1</th>\n",
       "      <th>feat_2</th>\n",
       "      <th>class</th>\n",
       "    </tr>\n",
       "  </thead>\n",
       "  <tbody>\n",
       "    <tr>\n",
       "      <th>0</th>\n",
       "      <td>5.1</td>\n",
       "      <td>3.5</td>\n",
       "      <td>0</td>\n",
       "    </tr>\n",
       "    <tr>\n",
       "      <th>1</th>\n",
       "      <td>4.9</td>\n",
       "      <td>3.0</td>\n",
       "      <td>0</td>\n",
       "    </tr>\n",
       "    <tr>\n",
       "      <th>2</th>\n",
       "      <td>4.7</td>\n",
       "      <td>3.2</td>\n",
       "      <td>0</td>\n",
       "    </tr>\n",
       "    <tr>\n",
       "      <th>3</th>\n",
       "      <td>4.6</td>\n",
       "      <td>3.1</td>\n",
       "      <td>0</td>\n",
       "    </tr>\n",
       "    <tr>\n",
       "      <th>4</th>\n",
       "      <td>5.0</td>\n",
       "      <td>3.6</td>\n",
       "      <td>0</td>\n",
       "    </tr>\n",
       "  </tbody>\n",
       "</table>\n",
       "</div>"
      ],
      "text/plain": [
       "   feat_1  feat_2  class\n",
       "0     5.1     3.5      0\n",
       "1     4.9     3.0      0\n",
       "2     4.7     3.2      0\n",
       "3     4.6     3.1      0\n",
       "4     5.0     3.6      0"
      ]
     },
     "execution_count": 83,
     "metadata": {},
     "output_type": "execute_result"
    }
   ],
   "source": [
    "df = pd.DataFrame(X, columns=['feat_1', 'feat_2'])\n",
    "df['class'] = Y\n",
    "df.head()"
   ]
  },
  {
   "cell_type": "code",
   "execution_count": 84,
   "metadata": {
    "ExecuteTime": {
     "end_time": "2017-08-02T13:57:35.939316",
     "start_time": "2017-08-02T13:57:35.853311"
    },
    "collapsed": false
   },
   "outputs": [
    {
     "data": {
      "text/plain": [
       "<IPython.core.display.Javascript object>"
      ]
     },
     "metadata": {},
     "output_type": "display_data"
    },
    {
     "data": {
      "text/html": [
       "<img src=\"data:image/png;base64,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\">"
      ],
      "text/plain": [
       "<IPython.core.display.HTML object>"
      ]
     },
     "metadata": {},
     "output_type": "execute_result"
    }
   ],
   "source": [
    "sns.regplot(x='feat_1', y='feat_2', data=df[df['class']==0], color='g', fit_reg=False)\n",
    "sns.regplot(x='feat_1', y='feat_2', data=df[df['class']==1], color='b', fit_reg=False)\n",
    "sns.plt.legend(['0 Class', '1 Class'])\n",
    "sns.plt.show()"
   ]
  },
  {
   "cell_type": "markdown",
   "metadata": {},
   "source": [
    "# Logistic Regression (Sklearn)"
   ]
  },
  {
   "cell_type": "code",
   "execution_count": 20,
   "metadata": {
    "collapsed": true
   },
   "outputs": [],
   "source": [
    "from sklearn import metrics"
   ]
  },
  {
   "cell_type": "code",
   "execution_count": 16,
   "metadata": {
    "collapsed": true
   },
   "outputs": [],
   "source": [
    "logreg = linear_model.LogisticRegression(C=1e5)"
   ]
  },
  {
   "cell_type": "code",
   "execution_count": 17,
   "metadata": {
    "collapsed": false
   },
   "outputs": [
    {
     "data": {
      "text/plain": [
       "LogisticRegression(C=100000.0, class_weight=None, dual=False,\n",
       "          fit_intercept=True, intercept_scaling=1, max_iter=100,\n",
       "          multi_class='ovr', n_jobs=1, penalty='l2', random_state=None,\n",
       "          solver='liblinear', tol=0.0001, verbose=0, warm_start=False)"
      ]
     },
     "execution_count": 17,
     "metadata": {},
     "output_type": "execute_result"
    }
   ],
   "source": [
    "logreg.fit(X, Y)"
   ]
  },
  {
   "cell_type": "code",
   "execution_count": 18,
   "metadata": {
    "collapsed": true
   },
   "outputs": [],
   "source": [
    "predictions = logreg.predict(X)"
   ]
  },
  {
   "cell_type": "code",
   "execution_count": 21,
   "metadata": {
    "collapsed": false
   },
   "outputs": [
    {
     "data": {
      "text/plain": [
       "1.0"
      ]
     },
     "execution_count": 21,
     "metadata": {},
     "output_type": "execute_result"
    }
   ],
   "source": [
    "metrics.accuracy_score(Y, predictions)"
   ]
  },
  {
   "cell_type": "markdown",
   "metadata": {},
   "source": [
    "# Gradient Descent"
   ]
  },
  {
   "cell_type": "markdown",
   "metadata": {},
   "source": [
    "Fit model using gradient descent.\n",
    "\n",
    "For the cost function we can rely on cross-entropy loss, which for binary cases is:\n",
    "\n",
    "$$\n",
    "L(y,\\hat{y})\\ =\\ -y\\log {\\hat  {y}}-(1-y)\\log(1-{\\hat  {y}})\n",
    "$$\n",
    "\n",
    "[Ref 1](http://aimotion.blogspot.ie/2011/11/machine-learning-with-python-logistic.html)"
   ]
  },
  {
   "cell_type": "code",
   "execution_count": 20,
   "metadata": {
    "ExecuteTime": {
     "end_time": "2017-08-02T13:18:42.361843",
     "start_time": "2017-08-02T13:18:42.352843"
    },
    "collapsed": true
   },
   "outputs": [],
   "source": [
    "# Sigmoid function\n",
    "def sigmoid(X):\n",
    "    res = 1.0 / (1.0 + np.exp(-1.0 * X))\n",
    "    return res"
   ]
  },
  {
   "cell_type": "code",
   "execution_count": 51,
   "metadata": {
    "ExecuteTime": {
     "end_time": "2017-08-02T13:35:22.943073",
     "start_time": "2017-08-02T13:35:22.932073"
    },
    "collapsed": false
   },
   "outputs": [],
   "source": [
    "# Cost for single prediction\n",
    "def compute_cost(X, y_true, theta):\n",
    "    m = len(y_true)\n",
    "    \n",
    "    y_pred = sigmoid(X.dot(theta).flatten())\n",
    "    \n",
    "    # Simplified\n",
    "    #if y_true == 1:\n",
    "    #    return -log(y_pred)\n",
    "    #else:\n",
    "    #    return -log(1 - y_pred)\n",
    "    \n",
    "    # One liner\n",
    "    cost = ((-y_true.T.dot(np.log(y_pred)) - \n",
    "             (1-y_true).T.dot(np.log(1-y_pred))) /(1.0*m))\n",
    "    return cost"
   ]
  },
  {
   "cell_type": "code",
   "execution_count": 52,
   "metadata": {
    "ExecuteTime": {
     "end_time": "2017-08-02T13:35:23.398099",
     "start_time": "2017-08-02T13:35:23.393099"
    },
    "collapsed": true
   },
   "outputs": [],
   "source": [
    "# single gradient descent step\n",
    "def gradient_descent_step(X, y, theta, alpha):\n",
    "    m = len(y)\n",
    "    # compute predictions\n",
    "    pred = sigmoid(X.dot(theta).flatten())\n",
    "    \n",
    "    # get error\n",
    "    errors = -np.sum((y-pred)*X.T, axis=1).reshape(3,1)\n",
    "    \n",
    "    theta -= alpha * (errors/m)\n",
    "    \n",
    "    return theta"
   ]
  },
  {
   "cell_type": "code",
   "execution_count": 53,
   "metadata": {
    "ExecuteTime": {
     "end_time": "2017-08-02T13:35:24.714175",
     "start_time": "2017-08-02T13:35:24.706174"
    },
    "collapsed": true
   },
   "outputs": [],
   "source": [
    "# run an entire training cycle\n",
    "def train(X, y, alpha, iters):\n",
    "    cost_history = np.zeros(shape=(iters, 1))\n",
    "    theta_history = []\n",
    "    \n",
    "    # our parameters are slope and intercepts (bias)\n",
    "    theta = np.random.randn(3, 1)\n",
    "    for i in range(iters):\n",
    "        theta = gradient_descent_step(X, y, theta, alpha)\n",
    "        \n",
    "        cost_history[i, 0] = compute_cost(X, y, theta)\n",
    "        theta_history.append(theta.copy())\n",
    "    \n",
    "    return theta_history, cost_history"
   ]
  },
  {
   "cell_type": "code",
   "execution_count": 89,
   "metadata": {
    "ExecuteTime": {
     "end_time": "2017-08-02T13:58:53.957779",
     "start_time": "2017-08-02T13:58:53.941778"
    },
    "collapsed": false
   },
   "outputs": [
    {
     "name": "stdout",
     "output_type": "stream",
     "text": [
      "(150, 3)\n",
      "(150,)\n"
     ]
    }
   ],
   "source": [
    "# Parameter learning\n",
    "\n",
    "# input data including bias\n",
    "iris = datasets.load_iris()\n",
    "X = iris.data[:, :3]\n",
    "X[:, 2] = 1\n",
    "y = iris.target\n",
    "# Replace label 2 with value 1, so we have only two classes to predict\n",
    "np.place(y, y==2, 1)\n",
    "\n",
    "print(X.shape)\n",
    "print(y.shape)"
   ]
  },
  {
   "cell_type": "code",
   "execution_count": 55,
   "metadata": {
    "ExecuteTime": {
     "end_time": "2017-08-02T13:35:26.541279",
     "start_time": "2017-08-02T13:35:26.483276"
    },
    "collapsed": false
   },
   "outputs": [],
   "source": [
    "alpha = 0.01\n",
    "epochs = 1000\n",
    "theta_history, cost_history = train(X, y, alpha, epochs)"
   ]
  },
  {
   "cell_type": "code",
   "execution_count": 57,
   "metadata": {
    "ExecuteTime": {
     "end_time": "2017-08-02T13:37:12.966366",
     "start_time": "2017-08-02T13:37:12.875361"
    },
    "collapsed": false
   },
   "outputs": [
    {
     "data": {
      "text/plain": [
       "<IPython.core.display.Javascript object>"
      ]
     },
     "metadata": {},
     "output_type": "display_data"
    },
    {
     "data": {
      "text/html": [
       "<img src=\"data:image/png;base64,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\">"
      ],
      "text/plain": [
       "<IPython.core.display.HTML object>"
      ]
     },
     "metadata": {},
     "output_type": "execute_result"
    }
   ],
   "source": [
    "# Plot history\n",
    "fig, axes = plt.subplots(2, 1)\n",
    "# plot cost\n",
    "axes[0].set_title('Cost History')\n",
    "axes[0].plot(cost_history.reshape(-1))\n",
    "axes[0].set_ylabel(\"cost\")\n",
    "# plot theta\n",
    "axes[1].set_title('Theta History')\n",
    "for t_idx in range(len(theta_history[0])):\n",
    "    axes[1].plot([t[t_idx] for t in theta_history], label='theta_{}'.format(t_idx))\n",
    "axes[1].set_xlabel(\"epoch\")\n",
    "plt.legend()\n",
    "plt.show()"
   ]
  },
  {
   "cell_type": "markdown",
   "metadata": {},
   "source": [
    "## Training Animation"
   ]
  },
  {
   "cell_type": "code",
   "execution_count": 95,
   "metadata": {
    "ExecuteTime": {
     "end_time": "2017-08-02T14:01:49.810837",
     "start_time": "2017-08-02T14:01:49.671829"
    },
    "collapsed": false
   },
   "outputs": [
    {
     "data": {
      "text/plain": [
       "<IPython.core.display.Javascript object>"
      ]
     },
     "metadata": {},
     "output_type": "display_data"
    },
    {
     "data": {
      "text/html": [
       "<img src=\"data:image/png;base64,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\">"
      ],
      "text/plain": [
       "<IPython.core.display.HTML object>"
      ]
     },
     "metadata": {},
     "output_type": "execute_result"
    }
   ],
   "source": [
    "alpha = 0.01\n",
    "epochs = 100\n",
    "\n",
    "# Plot SGD animation\n",
    "fig, ax = sns.plt.subplots(figsize=(8, 6))\n",
    "xx, yy = np.mgrid[0:10:.5, 0:10:.5]\n",
    "grid = np.c_[xx.ravel(), yy.ravel()]\n",
    "X_grid = np.ones(shape=(len(xx)*len(yy), 3))\n",
    "X_grid[:, :2] = grid\n",
    "theta = np.random.randn(3, 1)\n",
    "pred = sigmoid(X_grid.dot(theta).flatten()).reshape(xx.shape)\n",
    "contour = ax.contourf(xx, yy, pred, 25, cmap=\"RdBu\",\n",
    "                      vmin=0, vmax=1)\n",
    "sns.regplot(x='feat_1', y='feat_2', data=df[df['class']==0], color='g', fit_reg=False)\n",
    "sns.regplot(x='feat_1', y='feat_2', data=df[df['class']==1], color='b', fit_reg=False)\n",
    "ax_c = fig.colorbar(contour)\n",
    "ax_c.set_ticks([0, .25, .5, .75, 1])\n",
    "epoch_text = ax.text(0, 0, \"Epoch 0\")\n",
    "\n",
    "def animate(i):\n",
    "    global X, y, theta, alpha, df\n",
    "    theta = gradient_descent_step(X, y, theta, alpha)\n",
    "\n",
    "    pred = sigmoid(X_grid.dot(theta).flatten()).reshape(xx.shape)\n",
    "    contour = ax.contourf(xx, yy, pred, 25, cmap=\"RdBu\",\n",
    "                      vmin=0, vmax=1)\n",
    "    cost = compute_cost(X, y, theta)\n",
    "    epoch_text.set_text(\"Epoch {}, cost {:.3f}\".format(i, cost))\n",
    "    sns.regplot(x='feat_1', y='feat_2', data=df[df['class']==0], color='g', fit_reg=False)\n",
    "    sns.regplot(x='feat_1', y='feat_2', data=df[df['class']==1], color='b', fit_reg=False)\n",
    "    return epoch_text,\n",
    "\n",
    "ani = animation.FuncAnimation(fig, animate, epochs, interval=1, repeat=False)"
   ]
  }
 ],
 "metadata": {
  "anaconda-cloud": {},
  "kernelspec": {
   "display_name": "Python [conda env:kaggle]",
   "language": "python",
   "name": "conda-env-kaggle-py"
  },
  "language_info": {
   "codemirror_mode": {
    "name": "ipython",
    "version": 3.0
   },
   "file_extension": ".py",
   "mimetype": "text/x-python",
   "name": "python",
   "nbconvert_exporter": "python",
   "pygments_lexer": "ipython3",
   "version": "3.5.2"
  },
  "toc": {
   "colors": {
    "hover_highlight": "#DAA520",
    "running_highlight": "#FF0000",
    "selected_highlight": "#FFD700"
   },
   "moveMenuLeft": true,
   "nav_menu": {
    "height": "123px",
    "width": "252px"
   },
   "navigate_menu": true,
   "number_sections": true,
   "sideBar": true,
   "threshold": 4.0,
   "toc_cell": false,
   "toc_section_display": "block",
   "toc_window_display": false
  }
 },
 "nbformat": 4,
 "nbformat_minor": 0
}